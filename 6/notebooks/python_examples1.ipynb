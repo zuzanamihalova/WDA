{
 "cells": [
  {
   "cell_type": "markdown",
   "metadata": {},
   "source": [
    "### Úloha 6.1\n",
    "\n",
    "Pomocou cyklu vytvorte zoznam `flatten`, ktorý bude obsahovať všetky prvky všetkých vnorených zoznamov v zozname `nested`."
   ]
  },
  {
   "cell_type": "code",
   "execution_count": 33,
   "metadata": {},
   "outputs": [],
   "source": [
    "nested = [[1, 2, 3], [4, 5], [6], [7, 8, 9, 10]]\n",
    "flatten = [] # = [1, 2, 3, 4, 5, 6, 7, 8, 9, 10]"
   ]
  },
  {
   "cell_type": "markdown",
   "metadata": {},
   "source": [
    "### Úloha 6.2\n",
    "Nájdite minimálnu hodnotu v nasledujúcom zozname. Pre prázdny zoznam nastavte minimum na `None`."
   ]
  },
  {
   "cell_type": "code",
   "execution_count": 7,
   "metadata": {},
   "outputs": [
    {
     "ename": "SyntaxError",
     "evalue": "invalid syntax (<ipython-input-7-aec54c6e7ff7>, line 7)",
     "output_type": "error",
     "traceback": [
      "\u001b[1;36m  File \u001b[1;32m\"<ipython-input-7-aec54c6e7ff7>\"\u001b[1;36m, line \u001b[1;32m7\u001b[0m\n\u001b[1;33m    elif min = numbers[0]\u001b[0m\n\u001b[1;37m       ^\u001b[0m\n\u001b[1;31mSyntaxError\u001b[0m\u001b[1;31m:\u001b[0m invalid syntax\n"
     ]
    }
   ],
   "source": [
    "# príkaz postupne otestujte pre zadané hodnoty\n",
    "numbers = [1, 6, 8, 2, 10, -2] # min = -2\n",
    "\n",
    "# values = [] # min = None\n",
    "if numbers == []:\n",
    "    min = None\n",
    "    elif min = numbers[0]\n",
    "for i in numbers:\n",
    "    if i<min:\n",
    "        min = i\n",
    "print(min)    "
   ]
  },
  {
   "cell_type": "markdown",
   "metadata": {},
   "source": [
    "### Úloha 6.3\n",
    "\n",
    "Nájdite druhú najväčšiu hodnotu v nasledujúcom zozname. Pre prázdny zoznam, alebo zoznam s jedným prvkom nastavte hodnotu na `None`. "
   ]
  },
  {
   "cell_type": "code",
   "execution_count": 35,
   "metadata": {},
   "outputs": [],
   "source": [
    "# príkaz postupne otestujte pre zadané hodnoty\n",
    "numbers = [1, 6, 8, 2, 10, -2] # second_largest = 8\n",
    "\n",
    "# values = [1] # second_largest = None\n",
    "second_largest = None"
   ]
  },
  {
   "cell_type": "markdown",
   "metadata": {},
   "source": [
    "### Úloha 6.4\n",
    "\n",
    "Vypočítajte štandardnú odchýlku hodnôt v nasledujúcom zozname. Štandardnú odchýlku vypočítate podľa nasledujúceho vzorca:\n",
    "$$s = \\sqrt{\\frac{1}{N-1} \\sum_{i=1}^N (x_i - \\overline{x})^2}$$\n",
    "kde $N$ je počet hodnôt v zozname, $x_i$ je i-ta hodnota a $\\overline{x}$ je priemerná hodnota zo všetkých hodnôt v zozname."
   ]
  },
  {
   "cell_type": "code",
   "execution_count": 36,
   "metadata": {},
   "outputs": [],
   "source": [
    "numbers = [1, 6, 8, 2, 10, -2]"
   ]
  },
  {
   "cell_type": "markdown",
   "metadata": {},
   "source": [
    "### Úloha 6.5\n",
    "\n",
    "Odstráňte zo zoznamu `numbers` párne čísla. (Poznámka: párne čísla sú deliteľné 2 bezo zvyšku, ak budete priamo meniť zoznam, je lepšie si urobiť pri iterovanní jeho kópiu)"
   ]
  },
  {
   "cell_type": "code",
   "execution_count": 37,
   "metadata": {},
   "outputs": [],
   "source": [
    "numbers = [1, 6, 8, 2, 10, -2]"
   ]
  },
  {
   "cell_type": "markdown",
   "metadata": {},
   "source": [
    "### Úloha 6.6\n",
    "Vygenerujte zoznam `numbers`, ktorý bude obsahovať druhé mocniny čísel od 5 do 10."
   ]
  },
  {
   "cell_type": "markdown",
   "metadata": {},
   "source": [
    "### Úloha 6.7\n",
    "\n",
    "Napíšte program, ktorý rozdelí zoznam `numbers` na pod-zoznamy, pri výskyte zadanej hodnoty."
   ]
  },
  {
   "cell_type": "code",
   "execution_count": 38,
   "metadata": {},
   "outputs": [],
   "source": [
    "value = 2\n",
    "numbers = [0, 1, 2, 3, 4, 2, 5, 6, 7, 2, 2, 8]\n",
    "split = None # očakávaný výsledok je zoznam s vnorenými zoznamami [[0, 1], [3, 4], [5, 6, 7], [], [8]]\n",
    "             # (všimnite si, že sa pridá prázdny zoznam ak sa hodnota opakuje)"
   ]
  },
  {
   "cell_type": "markdown",
   "metadata": {},
   "source": [
    "### Úloha 6.8\n",
    "\n",
    "Pomocou množín vypíšte prvky, ktoré sa nachádzajú v zozname `list1`, ale nenachádzajú sa v zozname `list2`."
   ]
  },
  {
   "cell_type": "code",
   "execution_count": 39,
   "metadata": {},
   "outputs": [],
   "source": [
    "list1 = [1, 2, 3, 4]\n",
    "list2 = [1, 2]"
   ]
  },
  {
   "cell_type": "markdown",
   "metadata": {},
   "source": [
    "### Úloha 6.9\n",
    "\n",
    "Pre zadané zoznamy `keys` a `values` vytvorte mapu, ktorá bude mapovať hodnoty zoznamov."
   ]
  },
  {
   "cell_type": "code",
   "execution_count": 40,
   "metadata": {},
   "outputs": [],
   "source": [
    "keys = [\"John\", \"Jack\", \"Jane\"]\n",
    "values = [1234, 2345, 3456]\n",
    "m = {} # očakávaná hodnota = {\"John\": 1234, \"Jack\": 2345, \"Jane\": 3456}"
   ]
  },
  {
   "cell_type": "markdown",
   "metadata": {},
   "source": [
    "### Úloha 6.10\n",
    "\n",
    "Do mapy `map1` pridajte všetky hodnoty z mapy `map2` pre kľúče, ktoré sa vyskytujú v `map2`, ale nevyskytovali sa v `map1`."
   ]
  },
  {
   "cell_type": "code",
   "execution_count": null,
   "metadata": {},
   "outputs": [],
   "source": [
    "map1 = {\"apple\": 1, \"orange\": 2, \"pear\": 3}\n",
    "map2 = {\"banana\": 1, \"apple\": 2, }"
   ]
  }
 ],
 "metadata": {
  "kernelspec": {
   "display_name": "Python 3",
   "language": "python",
   "name": "python3"
  },
  "language_info": {
   "codemirror_mode": {
    "name": "ipython",
    "version": 3
   },
   "file_extension": ".py",
   "mimetype": "text/x-python",
   "name": "python",
   "nbconvert_exporter": "python",
   "pygments_lexer": "ipython3",
   "version": "3.7.1"
  }
 },
 "nbformat": 4,
 "nbformat_minor": 2
}
