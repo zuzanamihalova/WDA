{
 "cells": [
  {
   "cell_type": "markdown",
   "metadata": {},
   "source": [
    "## Úlohy"
   ]
  },
  {
   "cell_type": "markdown",
   "metadata": {},
   "source": [
    "### Úloha 3.1\n",
    "Napíšte príkaz vetvenia, ktorý vypíše pre zadanú premennu `salary` do ktorého intervalu patrí jej hodnota: `< 1000`, `1000-3000`, `> 3000`, alebo `unknown` pre hodnotu `None`."
   ]
  },
  {
   "cell_type": "code",
   "execution_count": 99,
   "metadata": {},
   "outputs": [
    {
     "name": "stdout",
     "output_type": "stream",
     "text": [
      "<1000\n"
     ]
    }
   ],
   "source": [
    "# príkaz postupne otestujte pre zadané hodnoty\n",
    "salary = 950\n",
    "\n",
    "#salary = 1350\n",
    "\n",
    "#salary = None\n",
    "\n",
    "#salary = 3500\n",
    "\n",
    "if salary is None:   # testovanie hodnoty None musí byť ako prvá podmienka, aby sme ju neporovnávali ako číslo\n",
    "    print(\"unknown\")\n",
    "elif salary < 1000:\n",
    "    print(\"<1000\")\n",
    "elif salary <= 3000: # salary < 1000 sme už otestovali v predchádzajúcej podmienke príkazom elif,\n",
    "                     # takže v tejto vetve môžu byť hodnoty iba väčšie, alebo rovné než 1000 \n",
    "    print(\"1000-3000\")\n",
    "else:                # podobne tu už nemusíme testovať salary > 3000 \n",
    "    print(\">3000\")"
   ]
  },
  {
   "cell_type": "markdown",
   "metadata": {},
   "source": [
    "### Úloha 3.2\n",
    "Vygenerujte postupnosť čísel od 1 do 10 (vrátane) a vypočítajte v cykle ich priemernú hodnotu."
   ]
  },
  {
   "cell_type": "code",
   "execution_count": 100,
   "metadata": {},
   "outputs": [
    {
     "name": "stdout",
     "output_type": "stream",
     "text": [
      "5.5\n",
      "5.5\n"
     ]
    }
   ],
   "source": [
    "sum = 0\n",
    "for value in range(1, 11):\n",
    "    sum += value\n",
    "avg = sum / 10\n",
    "print(avg)\n",
    "\n",
    "# všeobecnejšie riešenie pre ľubovoľný zoznam čísel\n",
    "numbers = range(1, 11)\n",
    "\n",
    "sum = 0\n",
    "for value in numbers:\n",
    "    sum += value\n",
    "avg = sum / len(numbers)\n",
    "print(avg)"
   ]
  },
  {
   "cell_type": "markdown",
   "metadata": {},
   "source": [
    "### Úloha 3.3\n",
    "\n",
    "Pre zadaný zoznam v cykle vypočítajte, koľko prvkov má hodnotu v rozsahu od 25 do 50 (vrátane)."
   ]
  },
  {
   "cell_type": "code",
   "execution_count": 101,
   "metadata": {},
   "outputs": [
    {
     "name": "stdout",
     "output_type": "stream",
     "text": [
      "5\n"
     ]
    }
   ],
   "source": [
    "numbers = [25, 24, 26, 45, 25, 23, 50, 51]\n",
    "\n",
    "# premenna 'count' by mala byť rovná 5 \n",
    "count = 0\n",
    "for value in numbers:\n",
    "    if 25 <= value and value <= 50:\n",
    "        count += 1\n",
    "\n",
    "print(count)"
   ]
  },
  {
   "cell_type": "markdown",
   "metadata": {},
   "source": [
    "### Úloha 3.4\n",
    "\n",
    "Vytvorte zoznam `filtered` do ktorého v cykle priradíte všetky hodnoty zoznamu `numbers` väčšie než 25."
   ]
  },
  {
   "cell_type": "code",
   "execution_count": 102,
   "metadata": {},
   "outputs": [
    {
     "name": "stdout",
     "output_type": "stream",
     "text": [
      "[26, 45, 50, 51]\n"
     ]
    }
   ],
   "source": [
    "numbers = [25, 24, 26, 45, 25, 23, 50, 51]\n",
    "\n",
    "# zoznam 'filtered' by mal byť rovný [26, 45, 50, 51]\n",
    "filtered = [] # na začiatku inicializujeme výsledný zoznam filtered na prázdny zoznam\n",
    "for value in numbers:\n",
    "    if value > 25:\n",
    "        filtered.append(value) # ak hodnota value spĺňa podmienku, pridáme ju na koniec výsledného zoznamu filtered.\n",
    "                               # ak by žiaden prvok nevyhovoval podmienke, výsledný zoznam filtered by zostal prázdny.\n",
    "\n",
    "print(filtered)"
   ]
  },
  {
   "cell_type": "markdown",
   "metadata": {},
   "source": [
    "### Úloha 3.5\n",
    "\n",
    "Vytvorte zoznam `indexes` do ktorého v cykle priradíte indexy prvkov zoznamu `numbers`, ktoré majú hodnoty menšie než 45. Skúste úlohu riešiť najrpv pomocou cyklu `while` a potom pomocou `for`."
   ]
  },
  {
   "cell_type": "code",
   "execution_count": 103,
   "metadata": {},
   "outputs": [
    {
     "name": "stdout",
     "output_type": "stream",
     "text": [
      "[0, 1, 2, 4, 5]\n",
      "[0, 1, 2, 4, 5]\n",
      "[0, 1, 2, 4, 5]\n"
     ]
    }
   ],
   "source": [
    "numbers = [25, 24, 26, 45, 25, 23, 50, 51]\n",
    "\n",
    "# zoznam 'indexes' by mal byť rovný [0, 1, 2, 4, 5]\n",
    "indexes = []\n",
    "\n",
    "# riešenie pomocou while\n",
    "i = 0 # inicializujeme si pomocnú premennu pre indexovanie\n",
    "while i < len(numbers):\n",
    "    value = numbers[i] # získame hodnotu prvku na i-tej pozícii\n",
    "    if value < 45:\n",
    "        indexes.append(i) # ak hodnota spĺňa podmienku, pridáme jej index do výsledného zoznamu indexes\n",
    "    i += 1 # nesmieme na konci zabudnúť inkrementovať indexovú premennu\n",
    "    \n",
    "print(indexes)\n",
    "\n",
    "# riešenie pomocou for a enumerate\n",
    "indexes = []\n",
    "for i, value in enumerate(numbers):\n",
    "    if value < 45:\n",
    "        indexes.append(i)\n",
    "\n",
    "print(indexes)\n",
    "\n",
    "# riešenie pomocou for a indexovania vygenerovaného pomocou range\n",
    "indexes = []\n",
    "for i in range(len(numbers)): # vygenerujeme si postupnosť indexov od 0 do (počet prvkov numbers - 1)\n",
    "    value = numbers[i] # získame hodnotu prvku na i-tej pozícii\n",
    "    if value < 45:\n",
    "        indexes.append(i)\n",
    "\n",
    "print(indexes)"
   ]
  },
  {
   "cell_type": "markdown",
   "metadata": {},
   "source": [
    "###  Úloha 3.6\n",
    "Napíšte cyklus, ktorý do premennej `index` nastaví pozíciu prvého výskytu prvku zoznamu `numbers` so zadanou hodnotou, alebo -1 ak sa taký prvok v zozname nenachádza."
   ]
  },
  {
   "cell_type": "code",
   "execution_count": 104,
   "metadata": {},
   "outputs": [
    {
     "name": "stdout",
     "output_type": "stream",
     "text": [
      "2\n"
     ]
    }
   ],
   "source": [
    "numbers = [24, 26, 25, 45, 25, 23, 50, 51]\n",
    "\n",
    "# cyklus otestujte pre nasledujúce hodnoty\n",
    "value = 25  # 'index' by mal byť 2 (prvý výskyt hodnoty 25 je na 3 pozícii s indexom 2)\n",
    "\n",
    "#value = 21 # 'index' by mal byť -1 (21 sa v zozname nenachádza)\n",
    "\n",
    "index = None\n",
    "\n",
    "# výslednú premennu index si inicializujeme na hodnotu -1\n",
    "index = -1\n",
    "for i, v in enumerate(numbers):\n",
    "    if v == value:\n",
    "        # našli sme požadovanú hodnotu, nastavíme do index jej pozíciu a prerušíme cyklus\n",
    "        index = i\n",
    "        break\n",
    "# ak sa v cykle nenájde hodnota value, hodnota index sa nezmení a bude nastavená na -1\n",
    "        \n",
    "print(index)"
   ]
  },
  {
   "cell_type": "markdown",
   "metadata": {},
   "source": [
    "### Úloha 3.7\n",
    "\n",
    "Vypočítajte priemerné hodnoty v riadkoch a v stĺpcoch nasledujúcej matice."
   ]
  },
  {
   "cell_type": "code",
   "execution_count": 105,
   "metadata": {},
   "outputs": [
    {
     "name": "stdout",
     "output_type": "stream",
     "text": [
      "riadok 1: 2.00\n",
      "riadok 2: 5.00\n",
      "riadok 3: 8.00\n",
      "riadok 4: 11.00\n",
      "stĺpec 1: 13.75\n",
      "stĺpec 2: 20.25\n",
      "stĺpec 3: 27.75\n"
     ]
    }
   ],
   "source": [
    "matrix = [[1, 2, 3], [4, 5, 6], [7, 8, 9], [10, 11, 12]]\n",
    "\n",
    "# priemer riadkov\n",
    "for i, row in enumerate(matrix): # budeme pri výpise potrebovať číslo riadku\n",
    "    sum = 0\n",
    "    for value in row:\n",
    "        sum += value\n",
    "    avg = sum / len(row)\n",
    "    print(\"riadok {0}: {1:.2f}\".format(i + 1, avg)) # indexovanie je od 0, takže pre číslo riadku pripočítame 1\n",
    "    \n",
    "# priemer stĺpcov musíme riešiť pomocou indexovania, pretože priamo cez for nevieme pristupovať k dátam po stĺpcoch\n",
    "# inicializujeme si pomocné premenné s počtom riadkov a stĺpcov\n",
    "num_rows = len(matrix)\n",
    "num_columns = len(matrix[0]) # predpokladáme, že každý riadok v matici má rovnaký počet stĺpcov, takže ho môžeme zistiť napr. z dĺžky prvého riadku\n",
    "\n",
    "# v prvom cykle prejdeme všetky stĺpce\n",
    "for j in range(num_columns):\n",
    "    # pre j-ty stĺpec spočítame hodnoty všetkých riadkov\n",
    "    sum += 0\n",
    "    for i in range(num_rows):\n",
    "        sum += matrix[i][j] # pripočítame hodnotu z i-tého riadku a j-tého stĺpca\n",
    "    avg = sum / num_rows\n",
    "    print(\"stĺpec {0}: {1:.2f}\".format(j + 1, avg))\n",
    "        "
   ]
  },
  {
   "cell_type": "markdown",
   "metadata": {},
   "source": [
    "### Úloha 3.8\n",
    "\n",
    "Rozdeľte nasledujúci text na riadky, v cykle pre každý riadok preveďte všetky písmena na malé a vypíšte zmenené riadky na obrazovku funkciou `print`."
   ]
  },
  {
   "cell_type": "code",
   "execution_count": 106,
   "metadata": {},
   "outputs": [
    {
     "name": "stdout",
     "output_type": "stream",
     "text": [
      "bridgekeeper: hee hee heh. stop. what... is your name?\n",
      "king arthur: it is 'arthur', king of the britons.\n",
      "bridgekeeper: what... is your quest?\n",
      "king arthur: to seek the holy grail.\n",
      "bridgekeeper: what... is the air-speed velocity of an unladen swallow?\n",
      "king arthur: what do you mean? an african or european swallow?\n"
     ]
    }
   ],
   "source": [
    "text = \"\"\"Bridgekeeper: Hee hee heh. Stop. What... is your name?\n",
    "King Arthur: It is 'Arthur', King of the Britons.\n",
    "Bridgekeeper: What... is your quest?\n",
    "King Arthur: To seek the Holy Grail.\n",
    "Bridgekeeper: What... is the air-speed velocity of an unladen swallow?\n",
    "King Arthur: What do you mean? An African or European swallow?\"\"\"\n",
    "\n",
    "lines = text.split(\"\\n\") # rozdelíme text na riadky\n",
    "for l in lines:\n",
    "    print(l.lower()) # zmeníme veľkosť písmen a vypíšeme každý riadok"
   ]
  },
  {
   "cell_type": "markdown",
   "metadata": {},
   "source": [
    "### Úloha 3.9\n",
    "Naprogramujte skript jednoduchej kalkulačky, ktorá v cykle načíta na vstupe reťazec reprezentujúci číselný výraz v tvare:\n",
    "`[číslo1] [operácia] [číslo2]` a vypočíta jeho číselnú hodnotu. Čísla môžu byť celé, alebo desatinné, a operácia môže byť +-*/.\n",
    "Výsledok vypíšte na 4 desatinné miesta."
   ]
  },
  {
   "cell_type": "code",
   "execution_count": 1,
   "metadata": {},
   "outputs": [
    {
     "ename": "SyntaxError",
     "evalue": "EOL while scanning string literal (<ipython-input-1-d07c767e0cfa>, line 24)",
     "output_type": "error",
     "traceback": [
      "\u001b[1;36m  File \u001b[1;32m\"<ipython-input-1-d07c767e0cfa>\"\u001b[1;36m, line \u001b[1;32m24\u001b[0m\n\u001b[1;33m    print({\"0:.4f} result)\u001b[0m\n\u001b[1;37m                              ^\u001b[0m\n\u001b[1;31mSyntaxError\u001b[0m\u001b[1;31m:\u001b[0m EOL while scanning string literal\n"
     ]
    }
   ],
   "source": [
    "# ako vstup pre testovanie použite nasledujúci zoznam výrazov\n",
    "exprs = [\"1 + 2\", \"2 * 3.14\", \"2 - 3.0\", \"10 / 5\"]\n",
    "\n",
    "# v cykle pre každý výraz\n",
    "for exp in exprs:\n",
    "    operands = exp.split(\" \") # rozdelíme si výraz na jednotlivé časti (operandy)\n",
    "    \n",
    "    x = operands[0]   # prvé číslo\n",
    "    opr = operands[1] # operácia\n",
    "    y = operands[2]   # druhé číslo\n",
    "    \n",
    "    # prevedieme reťazce na čísla\n",
    "    x = float(x) if x.find(\".\") >= 0 else int(x)  # ak reťazec obsahuje desatinnú bodku . skonvertujeme ho na float (desatinné číslo), inak na int (celé číslo)\n",
    "    y = float(y) if y.find(\".\") >= 0 else int(y)\n",
    "    \n",
    "    if opr == \"+\":\n",
    "        result = (x + y)\n",
    "    elif opr == \"-\":\n",
    "        result = (x - y)\n",
    "    elif opr == \"*\":\n",
    "        result = (x * y)\n",
    "    elif opr == \"/\":\n",
    "        result = (x / y)\n",
    "    print({\"0:.4f}, result)    "
   ]
  },
  {
   "cell_type": "markdown",
   "metadata": {},
   "source": [
    "### Úloha 3.10\n",
    "Na vstupe máte nasledujúce textové dáta:"
   ]
  },
  {
   "cell_type": "code",
   "execution_count": 108,
   "metadata": {},
   "outputs": [],
   "source": [
    "data = \"\"\"'power'; 'weight'; 'hybrid'; 'producer'\n",
    "55.3; 1450; false; 'ford'\n",
    "100; 2500; false; 'ford'\n",
    "60.5; 1150; true; 'toyota'\n",
    "56; ?; false; 'volkswagen'\n",
    "75.2; 1480; false; 'volkswagen'\n",
    "80.1; 1630; false; 'peugeot'\"\"\""
   ]
  },
  {
   "cell_type": "markdown",
   "metadata": {},
   "source": [
    "Napíšte skript, ktorý:\n",
    "* Rozdelí text na riadky a oddelí dátové polia. Hodnoty polí prevedie z reťazca na dátový typ Pythonu, tzn. čísla, reťazce bez oddeľovačov a Boolovské hodnoty.\n",
    "* Chýbajúce hodnoty označené `?` reprezentujte konštantou `None`.\n",
    "* Pre číselné polia vypíše základné štatistiky: min./max./priemernú hodnotu zaokrúhlené na 4 desatinné miesta.\n",
    "* Pre textové polia vypíše zoznam hodnôt usporiadaný podľa abecedy."
   ]
  },
  {
   "cell_type": "code",
   "execution_count": 109,
   "metadata": {},
   "outputs": [
    {
     "name": "stdout",
     "output_type": "stream",
     "text": [
      "[['power', 'weight', 'hybrid', 'producer'], [55.3, 1450, False, 'ford'], [100, 2500, False, 'ford'], [60.5, 1150, True, 'toyota'], [56, None, False, 'volkswagen'], [75.2, 1480, False, 'volkswagen'], [80.1, 1630, False, 'peugeot']]\n",
      "power min: 55.3000, max: 100.0000, avg: 71.1833\n",
      "weight min: 1150.0000, max: 2500.0000, avg: 1368.3333\n",
      "['ford', 'ford', 'peugeot', 'toyota', 'volkswagen', 'volkswagen']\n"
     ]
    }
   ],
   "source": [
    "# najprv si text rozdelíme na riadky a každý riadok rozdelíme na hodnoty\n",
    "lines = data.split(\"\\n\")\n",
    "rows = []\n",
    "for line in lines:\n",
    "    rows.append(line.split(';'))\n",
    "\n",
    "# skonvertujeme hodnoty z reťazcov na typy Pythonu\n",
    "for row in rows:\n",
    "    for i, value in enumerate(row): # budeme chcieť zmeniť hodnotu, takže budeme potrebovať jej index\n",
    "        # najprv odstránime z hodnoty prázdne znaky zo začiatku a konca\n",
    "        value = value.strip()\n",
    "        if value == \"?\":  # najprv skonvertujeme jednoduché hodnoty None, True a False\n",
    "            value = None\n",
    "        elif value == \"true\":\n",
    "            value = True\n",
    "        elif value == \"false\":\n",
    "            value = False\n",
    "        elif value.startswith(\"'\"): # ak je hodnota ohraničená '', tak je to reťazec\n",
    "            value = value[1:-1]     # odstránime z neho ohraničujúce znaky (prvý a posledný)\n",
    "        elif value.find(\".\") >= 0:  # inak je to číslo, ak obsahuje desatinnú bodku, prevedieme ho na float, inak na int\n",
    "            value = float(value)\n",
    "        else:\n",
    "            value = int(value)\n",
    "        row[i] = value # zmenenú hodnotu prepíšeme v riadku\n",
    "\n",
    "# pre kontrolu si zobrazíme skonvertované dáta (print zobrazí aj ohraničenie Python reťazcov '', ale hodnoty už neobsahujú ')\n",
    "print(rows)\n",
    "\n",
    "# z rows odstránime prvý riadok (hlavičku tabuľky s názvami stĺpcov)\n",
    "del(rows[0])\n",
    "\n",
    "# v jednom cykle vypočítame min, max a priemernú hodnotu pre prvý stĺpec (power)\n",
    "sum = 0\n",
    "min = None\n",
    "max = None\n",
    "for row in rows:\n",
    "    value = row[0]\n",
    "    if value is None: # preskočíme chýbajúce hodnoty  \n",
    "        continue\n",
    "    if min is None or value < min:  # ak sme ešte nepriradili do min žiadnu hodnotu, alebo ak je hodnota v riadku menšia než minimum, priradíme ju do min\n",
    "        min = value\n",
    "    if max is None or value > max:  # podobne ak sme ešte nepriradili max alebo je hodnota väčšia než max, priradíme ju do max \n",
    "        max = value\n",
    "    sum += value # pripočítame hodnotu do sumy pre priemer\n",
    "avg = sum / len(rows)\n",
    "    \n",
    "print(\"power min: {0:.4f}, max: {1:.4f}, avg: {2:.4f}\".format(min, max, avg))\n",
    "\n",
    "# vypočítame min, max a priemernú hodnotu pre druhý stĺpec (weight)\n",
    "sum = 0\n",
    "min = None\n",
    "max = None\n",
    "for row in rows:\n",
    "    value = row[1]\n",
    "    if value is None: # preskočíme chýbajúce hodnoty  \n",
    "        continue\n",
    "    if min is None or value < min:  # ak sme ešte nepriradili do min žiadnu hodnotu, alebo ak je hodnota v riadku menšia než minimum, priradíme ju do min\n",
    "        min = value\n",
    "    if max is None or value > max:  # podobne ak sme ešte nepriradili max alebo je hodnota väčšia než max, priradíme ju do max \n",
    "        max = value\n",
    "    sum += value # pripočítame hodnotu do sumy pre priemer\n",
    "avg = sum / len(rows)\n",
    "    \n",
    "print(\"weight min: {0:.4f}, max: {1:.4f}, avg: {2:.4f}\".format(min, max, avg))\n",
    "\n",
    "# pre textový stĺpec producer zozbierame zoznam hodnôt\n",
    "values = []\n",
    "for row in rows:\n",
    "    values.append(row[3]) # štvrtý stĺpec\n",
    "values.sort() # usporiadame hodnoty\n",
    "print(values)"
   ]
  },
  {
   "cell_type": "code",
   "execution_count": null,
   "metadata": {},
   "outputs": [],
   "source": []
  }
 ],
 "metadata": {
  "kernelspec": {
   "display_name": "Python 3",
   "language": "python",
   "name": "python3"
  },
  "language_info": {
   "codemirror_mode": {
    "name": "ipython",
    "version": 3
   },
   "file_extension": ".py",
   "mimetype": "text/x-python",
   "name": "python",
   "nbconvert_exporter": "python",
   "pygments_lexer": "ipython3",
   "version": "3.7.2"
  }
 },
 "nbformat": 4,
 "nbformat_minor": 2
}
