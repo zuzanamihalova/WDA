{
 "cells": [
  {
   "cell_type": "markdown",
   "metadata": {},
   "source": [
    "## Úlohy\n",
    "\n",
    "### Úloha 1.1\n",
    "\n",
    "Pre premenné `gender` a `age` napíšte logický (Boolovský) výraz pre podmienku:\n",
    "* `gender` má hodnotu `\"f\"`, alebo `\"F\"`\n",
    "* `age` má priradenú hodnotu (nie je `None`) a má hodnotu viac než 25 rokov vrátane\n"
   ]
  },
  {
   "cell_type": "code",
   "execution_count": 1,
   "metadata": {},
   "outputs": [
    {
     "data": {
      "text/plain": [
       "True"
      ]
     },
     "execution_count": 1,
     "metadata": {},
     "output_type": "execute_result"
    }
   ],
   "source": [
    "# výraz postupne otestujte pre zadané hodnoty\n",
    "gender = \"f\"\n",
    "age = 30\n",
    "\n",
    "#gender = \"m\"\n",
    "#age = 30\n",
    "\n",
    "#gender = \"F\"\n",
    "#age = None\n",
    "\n",
    "#gender = \"F\"\n",
    "#age = 25\n",
    "\n",
    "#gender = \"f\"\n",
    "#age = 24\n",
    "\n",
    "(gender == \"f\" or gender == \"F\") and (age is not None and age >= 25)"
   ]
  },
  {
   "cell_type": "markdown",
   "metadata": {},
   "source": [
    "### Úloha 1.2\n",
    "\n",
    "Vytvorte premennú `s` do ktorej priradíte nasledujúci dvojriadkový text:\n",
    "```\n",
    "Stop. What... is your name?\n",
    "    It's \"Arthur\", King of the \\Britons\\.\n",
    "```\n",
    "Druhý riadok je odsadený tabulátorom. Reťazec zapíšte na jeden riadok a pre tabuláror používajte postupnosť `\\t`."
   ]
  },
  {
   "cell_type": "code",
   "execution_count": 4,
   "metadata": {},
   "outputs": [
    {
     "name": "stdout",
     "output_type": "stream",
     "text": [
      "Stop. What... is your name?\n",
      "\tIt's \"Arthur\", King of the \\Britons\\.\n",
      "Stop. What... is your name?\n",
      "\tIt's \"Arthur\", King of the \\Britons\\.\n"
     ]
    }
   ],
   "source": [
    "# ohraničenie medzi ''\n",
    "s = 'Stop. What... is your name?\\n\\tIt\\'s \"Arthur\", King of the \\\\Britons\\\\.'\n",
    "print(s)\n",
    "\n",
    "# ohraničenie medzi \"\"\n",
    "s = \"Stop. What... is your name?\\n\\tIt's \\\"Arthur\\\", King of the \\\\Britons\\\\.\"\n",
    "print(s)"
   ]
  },
  {
   "cell_type": "markdown",
   "metadata": {},
   "source": [
    "### Úloha 1.3\n",
    "\n",
    "Z nasledujúceho reťazca odstráňte úvodné a koncové prázdne znaky a preveďte ho na veľké písmená."
   ]
  },
  {
   "cell_type": "code",
   "execution_count": 5,
   "metadata": {},
   "outputs": [
    {
     "name": "stdout",
     "output_type": "stream",
     "text": [
      "IT IS 'ARTHUR', KING OF THE BRITONS.\n"
     ]
    }
   ],
   "source": [
    "s = \"  It is 'Arthur', King of the Britons. \"\n",
    "s = s.strip().upper()\n",
    "print(s)"
   ]
  },
  {
   "cell_type": "markdown",
   "metadata": {},
   "source": [
    "### Úloha 1.4\n",
    "\n",
    "V reťazci `s` vyhľadajte slovo `King` a vyberte iba podreťazec od jeho výskytu do konca reťazca `s`."
   ]
  },
  {
   "cell_type": "code",
   "execution_count": 9,
   "metadata": {},
   "outputs": [
    {
     "name": "stdout",
     "output_type": "stream",
     "text": [
      "King of the Britons.\n"
     ]
    }
   ],
   "source": [
    "s = \"It is 'Arthur', King of the Britons.\"\n",
    "start = s.find(\"King\")\n",
    "s = s[start:]\n",
    "print(s)"
   ]
  },
  {
   "cell_type": "markdown",
   "metadata": {},
   "source": [
    "### Úloha 1.5\n",
    "Pomocou formátovacích reťazcov a funkcie `print` vypíšte nasledujúcu tabuľku s hodnotami premenných `sepal_length` a `sepal_width`:\n",
    "\n",
    "```\n",
    "Name          |   Average\n",
    "-------------------------\n",
    "sepal_length  |     10.82\n",
    "sepal_width   |      6.52\n",
    "```\n",
    "\n",
    "Šírka stĺpca `Name` je 15 znakov a text je zarovnaný doľava, šírka `Average` je 10 znakov a je zarovnaný doprava. Oddeľovací riadok vypíšte opakovaním znaku `-`."
   ]
  },
  {
   "cell_type": "code",
   "execution_count": 15,
   "metadata": {},
   "outputs": [
    {
     "name": "stdout",
     "output_type": "stream",
     "text": [
      "Name           |   Average\n",
      "--------------------------\n",
      "sepal_length   |     10.82\n",
      "sepal_width    |      6.52\n"
     ]
    }
   ],
   "source": [
    "# formátovacie nastavenia v poly môžete aj kombinovať, napr zápis {0:>15.4f} vypíše číslo na 4 desatinné miesta\n",
    "# a odsadí ho medzerami doľava tak, aby mal celkový reťaz 15 znakov\n",
    "\n",
    "sepal_length = 10.82134569\n",
    "sepal_width = 6.51984369\n",
    "\n",
    "print(\"{0:<15}|{1:>10}\".format(\"Name\", \"Average\"))\n",
    "print(\"-\" * 26)\n",
    "print(\"{0:<15}|{1:>10.2f}\".format(\"sepal_length\", sepal_length))\n",
    "print(\"{0:<15}|{1:>10.2f}\".format(\"sepal_width\", sepal_width))"
   ]
  },
  {
   "cell_type": "code",
   "execution_count": null,
   "metadata": {},
   "outputs": [],
   "source": []
  }
 ],
 "metadata": {
  "kernelspec": {
   "display_name": "Python 3",
   "language": "python",
   "name": "python3"
  },
  "language_info": {
   "codemirror_mode": {
    "name": "ipython",
    "version": 3
   },
   "file_extension": ".py",
   "mimetype": "text/x-python",
   "name": "python",
   "nbconvert_exporter": "python",
   "pygments_lexer": "ipython3",
   "version": "3.7.2"
  }
 },
 "nbformat": 4,
 "nbformat_minor": 2
}
