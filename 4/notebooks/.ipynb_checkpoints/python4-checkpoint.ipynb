{
 "cells": [
  {
   "cell_type": "markdown",
   "metadata": {},
   "source": [
    "## Dátové štruktúry a objekty 2\n",
    "\n",
    "### N-tice\n",
    "N-tice (v angličtine _tuples_) sa používajú na zoskupenie viacerých hodnôt do jedného nemenného objektu. K prvkom n-tíc sa pristupuje podobne ako pri reťazcoch a zoznamoch indexovaním."
   ]
  },
  {
   "cell_type": "code",
   "execution_count": null,
   "metadata": {},
   "outputs": [],
   "source": [
    "# n-tice sa definujú ohraničením prvkov do zátvoriek () oddelených ,\n",
    "t = (1, \"two\", True) # n-tice môžu obsahovať hodnoty rôznych typov\n",
    "\n",
    "# zoznam môžete previesť na n-ticu funkciou tuple\n",
    "t = tuple([1, \"two\", True])\n",
    "\n",
    "# indexovanie je rovnaké ako pri zoznamoch alebo reťazcoch\n",
    "t[0:2]  # = (1, \"two\") - rozsah vráti n-ticu\n",
    "# na rozdiel od zoznamov, prvky nemožno meniť (zápis t[index] = hodnota skončí chybou TypeError)\n",
    "\n",
    "# n-tice je možné „rozbaliť“ do viacerých premenných v jednom riadku\n",
    "x,y,z = t  # x = 1, y = \"two\", z = True - počet premenných musí zodpovedať počtu prvkov n-tice\n",
    "\n",
    "# môžete vytvoriť aj prázdnu n-ticu a vnorené n-tice\n",
    "empty = ()\n",
    "t = (1, (\"two\", \"three\"), (4, \"five\", 6))\n",
    "t[1][1]\t# = ‘three’\n",
    "\n",
    "# zvláštny zápis je pri definovaní n-tice s jedným prvkom\n",
    "# nestačí iba zadať jeden prvok do zátvoriek, ale za hodnotu musíte zapísať čiarku\n",
    "singleton = (\"one\",)\n",
    "\n",
    "# počet hodnôt v n-tici môžete zistiť funkciou len\n",
    "len(singleton) # = 1"
   ]
  },
  {
   "cell_type": "markdown",
   "metadata": {},
   "source": [
    "### Množiny\n",
    "Množiny sú neusporiadané kolekcie v ktorých sa každý prvok môže vyskytovať iba raz. Používajú sa napr. na odstránenie duplicitných hodnôt zo zoznamov. Vytvárajú sa napr. funkciou `set([zoznam])`."
   ]
  },
  {
   "cell_type": "code",
   "execution_count": null,
   "metadata": {},
   "outputs": [],
   "source": [
    "basket = [\"apple\", \"orange\", \"apple\"]\n",
    "fruits = set(basket)\n",
    "\n",
    "print(fruits) # vypíše set([‘orange’,’apple’]) bez duplicitnej hodnoty ‘apple’\n",
    "# nie je definované v akom poradí sú hodnoty množiny usporiadané!\n",
    "\n",
    "# množiny sú objekty s metódami, napr.:\n",
    "fruits.add(\"banana\") # metóda add pridá ďalšiu hodnotu do množiny (ak tam už nie je)\n",
    "fruits.remove(\"orange\") # remove odstráni hodnotu z množiny\n",
    "\n",
    "# otestovať, či množina obsahuje daný prvok môžete cez operátor in\n",
    "\"apple\" in fruits # = True\n",
    "\n",
    "# počet prvkov v množine vypíšete cez funkciu len\n",
    "len(fruits) # = 2\n",
    "\n",
    "# môžete vytvoriť aj prázdnu množinu\n",
    "empty = set()\n",
    "\n",
    "# množiny podporujú bežné množinové operácie ako napr.:\n",
    "a = set([1, 2, 3])\n",
    "b = set([2, 3, 4])\n",
    "c = a | b # zjednotenie (c obsahuje prvky, ktoré sa vyskytli v a alebo b)\n",
    "c = a & b # prienik (c obsahuje prvky, ktoré sa vyskytli v a a zároveň v b)\n",
    "c = a - b # rozdiel (c obsahuje iba prvky z a ktoré sa nevyskytujú v b)"
   ]
  },
  {
   "cell_type": "markdown",
   "metadata": {},
   "source": [
    "Viac o množinách si môžete prečítať [tu](https://docs.python.org/3.7/library/stdtypes.html#set) (v angličtine)."
   ]
  },
  {
   "cell_type": "markdown",
   "metadata": {},
   "source": [
    "### Mapy/slovníky\n",
    "Mapy (v Pythone označované ako slovníky, anglicky _dictionary_) sú neusporiadané kolekcie dvojíc `[kľúč : hodnota]`, pričom každý kľúč sa môže vyskytovať v kolekcii iba raz. Ako kľúč môžete použiť dátové hodnoty (čísla, reťazce a Boolovské hodnoty) a nemenné objekty (napr. n-tice zložené z dátových hodnôt a nemenných objektov)."
   ]
  },
  {
   "cell_type": "code",
   "execution_count": null,
   "metadata": {},
   "outputs": [],
   "source": [
    "# mapy sa definujú zápisom dvojíc kľúč : hodnota oddelených , medzi zátvorky {}\n",
    "tel = {\"jack\": 1234, \"john\": 2345}\n",
    "\n",
    "# k hodnotám sa pristupuje indexovaním podľa kľúča\n",
    "# na rozdiel od zoznamov alebo n-tíc, okrem čísel môžete ako kľúč použiť napr. reťazce, alebo nemenné objekty\n",
    "tel[\"jack\"] # = 1234\n",
    "\n",
    "# ak sa pokúsite pristupovať k neexistujúcemu kľúču, príkaz skončí chybou KeyError\n",
    "# ak chcete otestovať či daný kľúč v mape existuje, použite operátor in\n",
    "\"jack\" in tel # = True\n",
    "\n",
    "tel[\"hannah\"] = \"123abc\"  # môžete pridať hodnotu pre nový kľúč, alebo zmeniť hodnotu existujúceho\n",
    "# hodnoty a kľúče môžu mať rôzny typ (napr. jeden kľúč číslo a druhý kľúč reťazec a pod.)\n",
    "# kľúč a jeho hodnotu odstránite cez del\n",
    "del tel[\"jack\"]\n",
    "\n",
    "empty = {}  # môžete definovať aj prázdnu mapu\n",
    "\n",
    "# počet dvojíc zistíte pomocou funkcie len\n",
    "len(tel)\n",
    "\n",
    "# metóda keys() vráti neusporiadaný zoznam všetkých existujúcich kľúčov\n",
    "print(tel.keys())  # vypíše [’hannah’, ’john’]"
   ]
  },
  {
   "cell_type": "markdown",
   "metadata": {},
   "source": [
    "### Čas a dátumy\n",
    "Okrem dátových hodnôt a kolekcií poskytuje Python aj ďalšie objekty pre reprezentáciu rôznych typov dát. Užitočné sú napr. typy pre reprezentáciu času a dátumu. Tieto typy nie sú priamo zabudované do jazyka Python, ale sú súčasťou samostatného modulu s názvom `datetime`. Ak ich chcete vo svojom programe využívať, musíte ich naimportovať príkazom `from [názov modulu] import [názov typu]`."
   ]
  },
  {
   "cell_type": "code",
   "execution_count": null,
   "metadata": {},
   "outputs": [],
   "source": [
    "# z modulu ‘datetime’ naimportujeme typy pre reprezentáciu času a dátumu ‘time’ a ‘datetime’\n",
    "from datetime import time\n",
    "from datetime import datetime # ‘datetime’ je názov modulu aj typu\n",
    "\n",
    "# objekt pre reprezentáciu času vytvoríte funkciou time(hodina, minúta, sekunda, mikrosekunda)\n",
    "t = time(12) # čas 12:00:00 – ak vynecháte niektoré atribúty, budú doplnené 0 hodnotou\n",
    "\n",
    "# okrem metód môžu mať objekty definované aj dátové atribúty\n",
    "# pre typ ‘time’ sú definované atribúty hour, minute, second a microsecond\n",
    "print(\"{0:02d}:{1:02d}\".format(t.hour, t.minute))  # vypíše 12:00\n",
    "# formátovanie {x:02d} doplní reťazec aspoň na dĺžku 2 znakom ‘0’\n",
    "# (pre formátovanie dátumov si pozrite ďalej aj formátovanie pomocou metódy strftime)\n",
    "  \n",
    "# objekt pre reprezentáciu dátumu a času môžete vytvoriť funkciou datetime(rok, mesiac, deň, hodina, minúta, sekunda, mikrosekunda)\n",
    "dt = datetime(2017, 1, 31) # čas môžete vynechať a doplní sa 00:00:00\n",
    "\n",
    "# objekt datetime má definované atribúty year, month, day, hour, minut, second a microsecond\n",
    "# ak chcete vypísať deň v týždni, použite metódu isoweekday() \n",
    "print(dt.isoweekday()) # = 2 - utorok, hodnoty sú 1 pre pondelok až 7 pre nedeľu\n",
    "# všimnite si rozdiel medzi atribútmi objektu (napr. dt.year) a metódami\n",
    "# pri metódach bez parametrov musíte za menom uviesť prázdne zátvorky, napr. dt.isoweekday()\n",
    "\n",
    "# ak chcete získať aktuálny dátum a čas použite funkciu datetime.now()\n",
    "now = datetime.now()\n",
    "\n",
    "# ak chcete získať iba aktuálny čas, použite metódu time() objektu datetime\n",
    "tnow = datetime.now().time() # zreťazené volanie v jednom riadku\n",
    "\n",
    "# dátum a čas môžete načítať z reťazca metódou datetime.strptime(reťazec, formát)\n",
    "dt = datetime.strptime(\"21/11/06 16:30\", \"%d/%m/%y %H:%M\")\n",
    "# formátovací reťazec obsahuje značky začínajúce znakom % ktoré vymedzujú jednotlivé časové a dátumové polia, napr.:\n",
    "# %d - deň v mesiaci [01-31]\n",
    "# %m - číslo mesiaca v roku [01-12]\n",
    "# %y - rok bez storočia [00-99]\n",
    "# %Y - celý rok\n",
    "# %H - hodina [00-23]\n",
    "# %M - minúta [00-59]\n",
    "# ostatné znaky formátu sa musia rovnako vyskytovať vo vstupnom reťazci, napr. medzera za rokom a /medzi mesiacom, dňom a rokom\n",
    "\n",
    "# formátovací reťazec môžete využiť aj pri formátovaní objektu ‘datetime‘ na reťazec\n",
    "print(dt.strftime(\"%H:%M %d.%m %Y\")) # vypíše ’16:30 21.11 2006’"
   ]
  },
  {
   "cell_type": "markdown",
   "metadata": {},
   "source": [
    "## Úlohy"
   ]
  },
  {
   "cell_type": "markdown",
   "metadata": {},
   "source": [
    "### Úloha 4.1\n",
    "\n",
    "Do premennej `data` priraďte mapu, kde kľúč bude názov stĺpca v nasledujúcej tabuľke (napr. `Name` atď.) a hodnota bude zoznam všetkých hodnôt v danom stĺpci.\n",
    "\n",
    "| Name   | Position  | Salary |\n",
    "---------|-----------|--------|\n",
    "| John   | tester    | 1500   |\n",
    "| Jack   | developer | 2500   |\n",
    "| Hannah | CEO       | 105000 |\n",
    "| Jane   | analytic  | 3500   |\n",
    "\n",
    "Potom v cykle vypíšte hodnoty pre všetky stĺpce na treťom riadku (záznam o Hannah)."
   ]
  },
  {
   "cell_type": "markdown",
   "metadata": {},
   "source": [
    "### Úloha 4.2\n",
    "\n",
    "Pomocou množiny odstráňte z nasledujúceho zoznamu duplicitné hodnoty a vypíšte prvky podľa abecedy."
   ]
  },
  {
   "cell_type": "code",
   "execution_count": null,
   "metadata": {},
   "outputs": [],
   "source": [
    "basket = [\"apple\", \"orange\", \"apple\", \"pear\", \"orange\", \"apple\", \"banana\", \"banana\", \"avocado\"]"
   ]
  },
  {
   "cell_type": "markdown",
   "metadata": {},
   "source": [
    "### Úloha 4.3\n",
    "\n",
    "Pomocou mapy spočítajte koľkokrát sa vyskytovali v nasledujúcom zozname rôzne hodnoty a vypíšte zoznam rôznych hodnôt a ich početnosti."
   ]
  },
  {
   "cell_type": "code",
   "execution_count": null,
   "metadata": {},
   "outputs": [],
   "source": [
    "basket = [\"apple\", \"orange\", \"apple\", \"pear\", \"orange\", \"apple\", \"banana\", \"banana\", \"avocado\"]"
   ]
  },
  {
   "cell_type": "markdown",
   "metadata": {},
   "source": [
    "### Úloha 4.4\n",
    "\n",
    "Vypíšte aktuálny čas vo formáte `[hodina 00-23]:[minúta 00-59]` a aktuálny deň v týšdni (napr. pondelok, utorok, atď.)"
   ]
  },
  {
   "cell_type": "markdown",
   "metadata": {},
   "source": [
    "### Úloha 4.5\n",
    "Na vstupe máte zadaný nasledujúci text:"
   ]
  },
  {
   "cell_type": "code",
   "execution_count": null,
   "metadata": {},
   "outputs": [],
   "source": [
    "text = \"\"\"Bridgekeeper: Hee hee heh. Stop. What... is your name?\n",
    "King Arthur: It is 'Arthur', King of the Britons.\n",
    "Bridgekeeper: What... is your quest?\n",
    "King Arthur: To seek the Holy Grail.\n",
    "Bridgekeeper: What... is the air-speed velocity of an unladen swallow?\n",
    "King Arthur: What do you mean? An African or European swallow?\"\"\""
   ]
  },
  {
   "cell_type": "markdown",
   "metadata": {},
   "source": [
    "Napíšte skript, ktorý:\n",
    "1. Rozdelí text na riadky a slová. Slová prevedie na malé písmená a odstráni z textu diakritiku (' ... ?).\n",
    "2. Vypíše zoznam slov usporiadaný podľa abecedy s frekvenciami, koľkokrát slovo povedal kráľ Arthur, koľkokrát strážca mostu a aká bola frekvencia celkovo, napr.:\n",
    "```\n",
    "african   1  0  1\n",
    "air-speed 1  0  0\n",
    "an        1  1  2\n",
    "arthur    1  0  1\n",
    "...\n",
    "```"
   ]
  },
  {
   "cell_type": "code",
   "execution_count": null,
   "metadata": {},
   "outputs": [],
   "source": []
  }
 ],
 "metadata": {
  "kernelspec": {
   "display_name": "Python 3",
   "language": "python",
   "name": "python3"
  },
  "language_info": {
   "codemirror_mode": {
    "name": "ipython",
    "version": 3
   },
   "file_extension": ".py",
   "mimetype": "text/x-python",
   "name": "python",
   "nbconvert_exporter": "python",
   "pygments_lexer": "ipython3",
   "version": "3.7.2"
  }
 },
 "nbformat": 4,
 "nbformat_minor": 2
}
