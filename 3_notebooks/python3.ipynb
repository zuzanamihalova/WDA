{
 "cells": [
  {
   "cell_type": "markdown",
   "metadata": {},
   "source": [
    "## Príkazy\n",
    "\n",
    "### Odsadzovanie kódu\n",
    "\n",
    "Odsadzovanie kódu medzerami alebo tabulátorom na začiatku riadku je v Pythone veľmi dôležité, pretože definuje ako sú príkazy do seba vnorené a spojené do blokov. Napr. nasledujúci kód skončí chybou `IndentationError: expected an indented block:`"
   ]
  },
  {
   "cell_type": "code",
   "execution_count": null,
   "metadata": {},
   "outputs": [],
   "source": [
    "number = 42\n",
    "if number < 0:\n",
    "print(\"negative value\") # chyba! vnorené príkazy musia byť odsadené na novom riadku aspoň jednou medzerou alebo tabulátorom"
   ]
  },
  {
   "cell_type": "markdown",
   "metadata": {},
   "source": [
    "Interpreter očakáva za podmienkou príkazu `if` aspoň jeden ďalší príkaz, ktorý sa vykoná ak je podmienka splnená. Keďže príkaz `print('negative value')` nie je na začiatku riadku odsadený žiadnou medzerou alebo tabulátorom, Interpreter ho považuje za príkaz, ktorý by mal nasledovať za `if`, a príkaz `if` bude považovať za neukončený. Podobne, nasledujúci kód je logicky chybný keďže sa správa `negative number, reset to 0` vypíše aj pre nezáporné čísla. Aby bol príkaz `print` vykonaný iba pri splnení podmienky, musí byť odsadený do rovnakého bloku ako `number = 0`."
   ]
  },
  {
   "cell_type": "code",
   "execution_count": null,
   "metadata": {},
   "outputs": [],
   "source": [
    "number = 42\n",
    "if number < 0:\n",
    "    number = 0\n",
    "print(\"negative number, reset to 0\") # logická chyba! ak sa má správa vypísať iba pre záporné čísla,\n",
    "                                     # musí byť príkaz rovnako odsadený ako number = 0"
   ]
  },
  {
   "cell_type": "code",
   "execution_count": null,
   "metadata": {},
   "outputs": [],
   "source": [
    "if number < 0:\n",
    "    number = 0\n",
    "  print \"negative number, reset to 0\" # chyba! odsadenie musí byť rovnaké pre všetky príkazy v jednom bloku"
   ]
  },
  {
   "cell_type": "markdown",
   "metadata": {},
   "source": [
    "### Vetvenia"
   ]
  },
  {
   "cell_type": "code",
   "execution_count": null,
   "metadata": {},
   "outputs": [],
   "source": [
    "number = 42\n",
    "# podmienkou príkazu if môže byť ľubovoľný výraz, ktorý sa vyhodnotí ako Boolovská hodnota\n",
    "# môžete napr. používať operátory <, >, <=, >=, ==, !=, ‘in’ (testovanie či objekt obsahuje daný prvok) a\n",
    "# kombinovať ich logickými spojkami and, or, not\n",
    "if number < 0:\n",
    "    print(\"negative\")\n",
    "else: # vetva ‘else’ je nepovinná\n",
    "    print(\"zero or positive\")\n",
    "# = zero or positive"
   ]
  },
  {
   "cell_type": "markdown",
   "metadata": {},
   "source": [
    "Viacero podmienok môžete zreťaziť klauzulou `elif` (zreťazenie cez `elif` nahradzuje v Pythone príkaz `switch/case` z jazyka C)"
   ]
  },
  {
   "cell_type": "code",
   "execution_count": null,
   "metadata": {},
   "outputs": [],
   "source": [
    "if number < 0:\n",
    "    number = 0\n",
    "    print(\"negative number, reset to 0\")\n",
    "elif number == 0:\n",
    "    print(\"zero\")\n",
    "elif number == 1:\n",
    "    print(\"single\")\n",
    "else:\n",
    "    print(\"more\")\n",
    "# = more"
   ]
  },
  {
   "cell_type": "markdown",
   "metadata": {},
   "source": [
    "Pre jednoduché podmienené priradenie môžete použiť skrátený zápis podobný ternárnemu príkazu z C `?:`\n",
    "Hodnota1 `if podmienka else hodnota2` - výraz sa rovná `hodnota1` ak je podmienka splnená, alebo `hodnota2` ak je nesplnená."
   ]
  },
  {
   "cell_type": "code",
   "execution_count": null,
   "metadata": {},
   "outputs": [],
   "source": [
    "result = \"negative\" if number < 0 else \"positive or zero\"\n",
    "result # = positive or zero"
   ]
  },
  {
   "cell_type": "markdown",
   "metadata": {},
   "source": [
    "### Cykly\n",
    "\n",
    "Python podporuje cyklus `while` a iterovanie prvkov cez príkaz `for`."
   ]
  },
  {
   "cell_type": "code",
   "execution_count": null,
   "metadata": {},
   "outputs": [],
   "source": [
    "i = 0\n",
    "while i < 10: # cyklus `while` vykonáva vnorený blok príkazov pokiaľ je podmienka splnená.\n",
    "    print(i)\n",
    "    i += 1    # skrátený zápis i = i + 1 (Python nepodporuje operátor ++/-- z jazyka C)"
   ]
  },
  {
   "cell_type": "code",
   "execution_count": null,
   "metadata": {},
   "outputs": [],
   "source": [
    "# ‘for‘ cyklus sa používa na postupné prechádzanie prvkov\n",
    "numbers = [1, 2, 3]\n",
    "# napr. pre zoznam, za ‘for’ definujete názov premennej, do ktorej budú postupne dosadené všetky prvky zoznamu\n",
    "for x in numbers:\n",
    "    print(x)\n",
    "\n",
    "print(\"x={0}\".format(x)) # po iterovaní je premenná definovaná aj mimo bloku cyklu a má nastavenú poslednú hodnotu"
   ]
  },
  {
   "cell_type": "code",
   "execution_count": null,
   "metadata": {},
   "outputs": [],
   "source": [
    "# ak chcete naraz vypísať index a hodnotu, môžete použiť funkciu enumerate()\n",
    "for i, v in enumerate([\"tic\", \"tac\", \"toe\"]):\n",
    "    print(i, v) # do i je priradený index (od 0) a do v hodnota"
   ]
  },
  {
   "cell_type": "code",
   "execution_count": null,
   "metadata": {},
   "outputs": [],
   "source": [
    "# ak budete počas iterovania pridávať alebo odoberať nejaké hodnoty zo zoznamu, je bezpečnejšie pre iterovanie urobiť jeho kópiu\n",
    "for x in numbers[:]:        # vytvoríme kópiu cez rozsah [:]\n",
    "    numbers.append(x * x)   # pridáme na koniec zoznamu druhé mocniny\n",
    "\n",
    "print(numbers) # = [1, 2, 3, 1, 4, 9]"
   ]
  },
  {
   "cell_type": "markdown",
   "metadata": {},
   "source": [
    "Pre jednoduché iterovanie si môžete vygenerovať postupnosť čísel pomocou funkcie `range()`, napr.:"
   ]
  },
  {
   "cell_type": "code",
   "execution_count": null,
   "metadata": {},
   "outputs": [],
   "source": [
    "for x in range(10): # vygeneruje sa postupnosť [0, 1, 2, 3, 4, 5, 6, 7, 8, 9]\n",
    "    print(x)\n",
    "\n",
    "# ako argument funkcie range() môžete voliteľne zadať aj počiatočnú hodnotu a krok\n",
    "range(3, 7)         # = [3, 4, 5, 6]\n",
    "range(10, 4, -2)    # = [10, 8, 6] - v obrátenom poradí bez poslednej hodnoty"
   ]
  },
  {
   "cell_type": "markdown",
   "metadata": {},
   "source": [
    "Pre prerušenie cyklu, alebo pre preskočenie kódu a pokračovanie ďalšou iteráciou sa používajú príkazy `break` a `continue`, ktoré fungujú podobne ako v jazyku C (môžete ich použiť aj v cykloch `while`)."
   ]
  },
  {
   "cell_type": "code",
   "execution_count": null,
   "metadata": {},
   "outputs": [],
   "source": [
    "for x in range(1, 10):\n",
    "    if x % 2 == 0:\n",
    "        print(\"continue for even number\")\n",
    "        continue    # pre párne čísla sa pokračuje nasledujúcou iteráciou a ďalšie príkazy v cykle sa preskočia\n",
    "    if x == 5:\n",
    "        break       # cyklus sa preruší pri x == 5 (pri vnorených cykloch ‘break’ preruší iba najbližší cyklus)\n",
    "    print(x)\n",
    "# vypíše sa:\n",
    "# 1\n",
    "# continue for even number\n",
    "# 3\n",
    "# continue for even number"
   ]
  },
  {
   "cell_type": "markdown",
   "metadata": {},
   "source": [
    "## Úlohy\n",
    "\n",
    "### Úloha 3.1\n",
    "Vygenerujte postupnosť čísel od 1 do 10 (vrátane) a vypočítajte v cykle ich priemernú hodnotu."
   ]
  },
  {
   "cell_type": "markdown",
   "metadata": {},
   "source": [
    "### Úloha 3.2\n",
    "Naprogramujte skript jednoduchej kalkulačky, ktorá v cykle načíta na vstupe výrazy v tvare:\n",
    "`[číslo1] [operácia] [číslo2]` a vypočíta ich hodnotu. Čísla môžu byť celé alebo desatinné a operácia môže byť +-*/.\n",
    "Výsledok vypíšte na 4 desatinné miesta. Ako vstup použite nasledujúci zoznam výrazov."
   ]
  },
  {
   "cell_type": "code",
   "execution_count": null,
   "metadata": {},
   "outputs": [],
   "source": [
    "exprs = [\"1 + 2\", \"2 * 3,14\", \"2 - 3.0\", \"10 / 5\"]"
   ]
  },
  {
   "cell_type": "markdown",
   "metadata": {},
   "source": [
    "### Úloha 3.3\n",
    "Na vstupe máte nasledujúce textové dáta:"
   ]
  },
  {
   "cell_type": "code",
   "execution_count": null,
   "metadata": {},
   "outputs": [],
   "source": [
    "data = \"\"\"'power'; 'weight'; 'hybrid'; 'producer'\n",
    "55.3; 1450; false; 'ford'\n",
    "100; 2500; false; 'ford'\n",
    "60.5; 1150; true; 'toyota'\n",
    "56; ?; false; 'volkswagen'\n",
    "75.2; 1480; false; 'volkswagen'\n",
    "80.1; 1630; false; 'peugeot'\"\"\""
   ]
  },
  {
   "cell_type": "markdown",
   "metadata": {},
   "source": [
    "Napíšte skript, ktorý:\n",
    "* Rozdelí text na riadky a oddelí dátové polia. Hodnoty polí prevedie z reťazca na dátový typ Pythonu, tzn. čísla, reťazce bez oddeľovačov a Boolovské hodnoty.\n",
    "* Chýbajúce hodnoty označené `?` reprezentujte konštantou `None`.\n",
    "* Pre číselné polia vypíše základné štatistiky: min./max./priemernú hodnotu a štandardnú odchýlku zaokrúhlené na 4 desatinné miesta.\n",
    "* Pre textové polia vypíše zoznam hodnôt usporiadaný podľa abecedy."
   ]
  },
  {
   "cell_type": "code",
   "execution_count": null,
   "metadata": {},
   "outputs": [],
   "source": []
  }
 ],
 "metadata": {
  "kernelspec": {
   "display_name": "Python 3",
   "language": "python",
   "name": "python3"
  },
  "language_info": {
   "codemirror_mode": {
    "name": "ipython",
    "version": 3
   },
   "file_extension": ".py",
   "mimetype": "text/x-python",
   "name": "python",
   "nbconvert_exporter": "python",
   "pygments_lexer": "ipython3",
   "version": "3.7.2"
  }
 },
 "nbformat": 4,
 "nbformat_minor": 2
}
