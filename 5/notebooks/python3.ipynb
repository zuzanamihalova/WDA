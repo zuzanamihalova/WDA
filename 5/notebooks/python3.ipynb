{
 "cells": [
  {
   "cell_type": "markdown",
   "metadata": {},
   "source": [
    "## Príkazy\n",
    "\n",
    "### Odsadzovanie kódu\n",
    "\n",
    "Odsadzovanie kódu medzerami, alebo tabulátorom na začiatku riadku je v Pythone veľmi dôležité, pretože definuje ako sú príkazy do seba vnorené a spojené do blokov. Napr. nasledujúci kód skončí chybou `IndentationError: expected an indented block:`"
   ]
  },
  {
   "cell_type": "code",
   "execution_count": null,
   "metadata": {},
   "outputs": [],
   "source": [
    "number = 42\n",
    "if number < 0:\n",
    "print(\"negative value\") # chyba! vnorené príkazy musia byť odsadené na novom riadku aspoň jednou medzerou alebo tabulátorom"
   ]
  },
  {
   "cell_type": "markdown",
   "metadata": {},
   "source": [
    "Interpreter očakáva za podmienkou príkazu `if` aspoň jeden ďalší príkaz, ktorý sa vykoná ak je podmienka splnená. Keďže príkaz `print('negative value')` nie je na začiatku riadku odsadený žiadnou medzerou alebo tabulátorom, Interpreter ho považuje za príkaz, ktorý by mal nasledovať za `if`, a príkaz `if` bude považovať za neukončený. Podobne, nasledujúci kód je logicky chybný keďže sa správa `negative number, reset to 0` vypíše aj pre nezáporné čísla. Aby bol príkaz `print` vykonaný iba pri splnení podmienky, musí byť odsadený do rovnakého bloku ako `number = 0`."
   ]
  },
  {
   "cell_type": "code",
   "execution_count": null,
   "metadata": {},
   "outputs": [],
   "source": [
    "number = 42\n",
    "if number < 0:\n",
    "    number = 0\n",
    "print(\"negative number, reset to 0\") # logická chyba! ak sa má správa vypísať iba pre záporné čísla,\n",
    "                                     # musí byť príkaz rovnako odsadený ako number = 0"
   ]
  },
  {
   "cell_type": "code",
   "execution_count": null,
   "metadata": {},
   "outputs": [],
   "source": [
    "if number < 0:\n",
    "    number = 0\n",
    "  print \"negative number, reset to 0\" # chyba! odsadenie musí byť rovnaké pre všetky príkazy v jednom bloku"
   ]
  },
  {
   "cell_type": "markdown",
   "metadata": {},
   "source": [
    "### Vetvenia\n",
    "\n",
    "Vetvenia slúžia na vykonávanie postupnosti (bloku) príkazov iba pri splnení určitej podmienky."
   ]
  },
  {
   "cell_type": "code",
   "execution_count": null,
   "metadata": {},
   "outputs": [],
   "source": [
    "number = 42\n",
    "# podmienkou príkazu if môže byť ľubovoľný výraz, ktorý sa vyhodnotí ako Boolovská hodnota\n",
    "# môžete napr. používať operátory <, >, <=, >=, ==, !=, ‘in’ (testovanie či objekt obsahuje daný prvok) a\n",
    "# kombinovať ich logickými spojkami and, or, not\n",
    "if number < 0:\n",
    "    print(\"negative\")\n",
    "    number = 0 # podmienený blok môže obsahovať viacero príkazov, ktoré musia byť správne odsadené\n",
    "else: # vetva ‘else’ je nepovinná\n",
    "    print(\"zero or positive\")\n",
    "# = zero or positive"
   ]
  },
  {
   "cell_type": "markdown",
   "metadata": {},
   "source": [
    "Viacero podmienok môžete zreťaziť klauzulou `elif` (zreťazenie cez `elif` nahradzuje v Pythone príkaz `switch/case` z jazyka C)"
   ]
  },
  {
   "cell_type": "code",
   "execution_count": null,
   "metadata": {},
   "outputs": [],
   "source": [
    "if number < 0:\n",
    "    number = 0\n",
    "    print(\"negative number, reset to 0\")\n",
    "elif number == 0:\n",
    "    print(\"zero\")\n",
    "elif number == 1:\n",
    "    print(\"single\")\n",
    "else:\n",
    "    print(\"more\")\n",
    "# = more"
   ]
  },
  {
   "cell_type": "markdown",
   "metadata": {},
   "source": [
    "Pre jednoduché podmienené priradenie môžete použiť skrátený zápis podobný ternárnemu príkazu z C `?:`\n",
    "Hodnota1 `if podmienka else hodnota2` - výraz sa rovná `hodnota1` ak je podmienka splnená, alebo `hodnota2` ak je nesplnená."
   ]
  },
  {
   "cell_type": "code",
   "execution_count": null,
   "metadata": {},
   "outputs": [],
   "source": [
    "result = \"negative\" if number < 0 else \"positive or zero\"\n",
    "result # = positive or zero"
   ]
  },
  {
   "cell_type": "markdown",
   "metadata": {},
   "source": [
    "### Cykly\n",
    "\n",
    "Cykly slúžia na opakované vykonávanie bloku príkazov. Python podporuje cyklus `while`, ktorý vykonáva vnorený blok príkazov, pokiaľ je splnená zadaná podmienka; a cyklus `for`, ktorý slúži na postupné spracovanie prvkov (iterovanie) v kolekcii objektov (napr. zoznamov)."
   ]
  },
  {
   "cell_type": "code",
   "execution_count": null,
   "metadata": {},
   "outputs": [],
   "source": [
    "i = 0\n",
    "while i < 10: # cyklus `while` vykonáva vnorený blok príkazov pokiaľ je podmienka splnená.\n",
    "    print(i)\n",
    "    i += 1    # skrátený zápis i = i + 1 (Python nepodporuje operátor ++/-- z jazyka C)"
   ]
  },
  {
   "cell_type": "code",
   "execution_count": null,
   "metadata": {},
   "outputs": [],
   "source": [
    "# ‘for‘ cyklus sa používa na postupné prechádzanie prvkov\n",
    "numbers = [1, 2, 3]\n",
    "# napr. pre zoznam, za ‘for’ definujete názov premennej, do ktorej budú postupne dosadené všetky prvky zoznamu\n",
    "for x in numbers:\n",
    "    print(x)\n",
    "\n",
    "print(\"x={0}\".format(x)) # po iterovaní je premenná definovaná aj mimo bloku cyklu a má nastavenú poslednú hodnotu"
   ]
  },
  {
   "cell_type": "code",
   "execution_count": null,
   "metadata": {},
   "outputs": [],
   "source": [
    "# ak chcete naraz vypísať index a hodnotu, môžete použiť funkciu enumerate()\n",
    "for i, v in enumerate([\"tic\", \"tac\", \"toe\"]):\n",
    "    print(i, v) # do i je priradený index (od 0) a do v hodnota"
   ]
  },
  {
   "cell_type": "code",
   "execution_count": null,
   "metadata": {},
   "outputs": [],
   "source": [
    "# ak budete počas iterovania pridávať alebo odoberať nejaké hodnoty zo zoznamu, je bezpečnejšie pre iterovanie urobiť jeho kópiu\n",
    "for x in numbers[:]:        # vytvoríme kópiu cez rozsah [:]\n",
    "    numbers.append(x * x)   # pridáme na koniec zoznamu druhé mocniny\n",
    "\n",
    "print(numbers) # = [1, 2, 3, 1, 4, 9]"
   ]
  },
  {
   "cell_type": "markdown",
   "metadata": {},
   "source": [
    "Pre jednoduché iterovanie si môžete vygenerovať postupnosť čísel pomocou funkcie `range()`, napr.:"
   ]
  },
  {
   "cell_type": "code",
   "execution_count": null,
   "metadata": {},
   "outputs": [],
   "source": [
    "for x in range(10): # vygeneruje sa postupnosť [0, 1, 2, 3, 4, 5, 6, 7, 8, 9]\n",
    "    print(x)\n",
    "\n",
    "# ako argument funkcie range() môžete voliteľne zadať aj počiatočnú hodnotu a krok\n",
    "range(3, 7)         # = [3, 4, 5, 6]\n",
    "range(10, 4, -2)    # = [10, 8, 6] - v obrátenom poradí bez poslednej hodnoty"
   ]
  },
  {
   "cell_type": "markdown",
   "metadata": {},
   "source": [
    "Pre prerušenie cyklu, alebo pre preskočenie kódu a pokračovanie ďalšou iteráciou sa používajú príkazy `break` a `continue`, ktoré fungujú podobne ako v jazyku C (môžete ich použiť aj v cykloch `while`)."
   ]
  },
  {
   "cell_type": "code",
   "execution_count": null,
   "metadata": {},
   "outputs": [],
   "source": [
    "for x in range(1, 10):\n",
    "    if x % 2 == 0:\n",
    "        print(\"continue for even number\")\n",
    "        continue    # pre párne čísla sa pokračuje nasledujúcou iteráciou a ďalšie príkazy v cykle sa preskočia\n",
    "    if x == 5:\n",
    "        break       # cyklus sa preruší pri x == 5 (pri vnorených cykloch ‘break’ preruší iba najbližší cyklus)\n",
    "    print(x)\n",
    "# vypíše sa:\n",
    "# 1\n",
    "# continue for even number\n",
    "# 3\n",
    "# continue for even number"
   ]
  },
  {
   "cell_type": "markdown",
   "metadata": {},
   "source": [
    "## Úlohy"
   ]
  },
  {
   "cell_type": "markdown",
   "metadata": {},
   "source": [
    "### Úloha 3.1\n",
    "Napíšte príkaz vetvenia, ktorý vypíše pre zadanú premennú `salary` do ktorého intervalu patrí jej hodnota: `< 1000`, `1000-3000`, `> 3000`, alebo `unknown` pre hodnotu `None`."
   ]
  },
  {
   "cell_type": "code",
   "execution_count": 15,
   "metadata": {},
   "outputs": [
    {
     "name": "stdout",
     "output_type": "stream",
     "text": [
      "1000-3000\n"
     ]
    }
   ],
   "source": [
    "# výraz postupne otestujte pre zadané hodnoty\n",
    "#salary = 950\n",
    "\n",
    "salary = 1350\n",
    "\n",
    "#salary = None\n",
    "\n",
    "#salary = 3500\n",
    "if salary is None: \n",
    "    print (\"unknown\")\n",
    "elif salary < 1000:\n",
    "    print(\"0-1000\")\n",
    "elif salary >= 1000 and salary <=3000:  #dalo by sa aj bez podmienky menej ako 1000, tie sa nam odfiltrovali v prvej podmienke, ale pre prehladnost pisem\n",
    "    print(\"1000-3000\")\n",
    "elif salary > 3000:        #tu nemusi uz elif, staci aj else print(viac ako..), mensie hodnoty sa uz odfiltrovali\n",
    "    print(\"viac ako 3000\")\n",
    "\n",
    "# non testujem ako prve!!!!! neviem presne preco, ale opacne to nevie porovnat, nakolko int a None sa neda v premennej miesat. \n",
    "# preto - otestuj najprv none a potom cez elif dalsie "
   ]
  },
  {
   "cell_type": "markdown",
   "metadata": {},
   "source": [
    "### Úloha 3.2\n",
    "Vygenerujte postupnosť čísel od 1 do 10 (vrátane) a vypočítajte v cykle ich priemernú hodnotu."
   ]
  },
  {
   "cell_type": "code",
   "execution_count": 19,
   "metadata": {},
   "outputs": [
    {
     "name": "stdout",
     "output_type": "stream",
     "text": [
      "5.5\n"
     ]
    }
   ],
   "source": [
    "sum = 0\n",
    "for x in range (1, 11):\n",
    "    sum += x\n",
    "\n",
    "priemer = sum /10\n",
    "print(priemer)\n"
   ]
  },
  {
   "cell_type": "markdown",
   "metadata": {},
   "source": [
    "### Úloha 3.3\n",
    "\n",
    "Pre zadaný zoznam v cykle vypočítajte, koľko prvkov má hodnotu v rozsahu od 25 do 50 (vrátane)."
   ]
  },
  {
   "cell_type": "code",
   "execution_count": 21,
   "metadata": {},
   "outputs": [
    {
     "name": "stdout",
     "output_type": "stream",
     "text": [
      "5\n"
     ]
    }
   ],
   "source": [
    "numbers = [25, 24, 26, 45, 25, 23, 50, 51]\n",
    "\n",
    "# premenna 'count' by mala byť rovná 5 \n",
    "count = 0\n",
    "for x in numbers:\n",
    "    if x >= 25 and x <= 50:\n",
    "        count +=1\n",
    "print(count)        "
   ]
  },
  {
   "cell_type": "markdown",
   "metadata": {},
   "source": [
    "### Úloha 3.4\n",
    "\n",
    "Vytvorte zoznam `filtered` do ktorého v cykle priradíte všetky hodnoty zoznamu `numbers` väčšie než 25."
   ]
  },
  {
   "cell_type": "code",
   "execution_count": 23,
   "metadata": {},
   "outputs": [
    {
     "data": {
      "text/plain": [
       "[26, 45, 50, 51]"
      ]
     },
     "execution_count": 23,
     "metadata": {},
     "output_type": "execute_result"
    }
   ],
   "source": [
    "numbers = [25, 24, 26, 45, 25, 23, 50, 51]\n",
    "\n",
    "# zoznam 'filtered' by mal byť rovný [26, 45, 50, 51]\n",
    "filtered = []\n",
    "for x in numbers:\n",
    "    if x > 25:\n",
    "        filtered.append(x)\n",
    "filtered        \n",
    "      \n",
    "# for i, x in enumerate(numbers): do i mi priradzuje aj hodnoty    "
   ]
  },
  {
   "cell_type": "markdown",
   "metadata": {},
   "source": [
    "### Úloha 3.5\n",
    "\n",
    "Vytvorte zoznam `indexes` do ktorého v cykle priradíte indexy prvkov zoznamu `numbers`, ktoré majú hodnoty menšie než 45. Skúste úlohu riešiť najrpv pomocou cyklu `while` a potom pomocou `for`."
   ]
  },
  {
   "cell_type": "code",
   "execution_count": 30,
   "metadata": {},
   "outputs": [
    {
     "data": {
      "text/plain": [
       "[0, 1, 2, 4, 5]"
      ]
     },
     "execution_count": 30,
     "metadata": {},
     "output_type": "execute_result"
    }
   ],
   "source": [
    "numbers = [25, 24, 26, 45, 25, 23, 50, 51]\n",
    "\n",
    "# zoznam 'indexes' by mal byť rovný [0, 1, 2, 4, 5]\n",
    "indexes = []\n",
    "i = 0\n",
    "while i < len(numbers):          \n",
    "    if numbers[i] < 45:\n",
    "        indexes.append(i)\n",
    "    i +=1\n",
    "indexes  \n",
    "\n"
   ]
  },
  {
   "cell_type": "code",
   "execution_count": 38,
   "metadata": {},
   "outputs": [
    {
     "data": {
      "text/plain": [
       "[0, 1, 2, 4, 5]"
      ]
     },
     "execution_count": 38,
     "metadata": {},
     "output_type": "execute_result"
    }
   ],
   "source": [
    "#alebo pomocou for\n",
    "\n",
    "numbers = [25, 24, 26, 45, 25, 23, 50, 51]\n",
    "indexes = []\n",
    "for i, x in enumerate(numbers):\n",
    "    if x < 45:\n",
    "        indexes.append(i)\n",
    "indexes        \n",
    "\n",
    "# alebo for zapis cez: for i in range(len(numbers)):\n",
    "#                         if numbers[i] <45 ... "
   ]
  },
  {
   "cell_type": "markdown",
   "metadata": {},
   "source": [
    "###  Úloha 3.6\n",
    "Napíšte cyklus, ktorý do premennej `index` nastaví pozíciu prvého výskytu prvku zoznamu `numbers` so zadanou hodnotou, alebo -1 ak sa taký prvok v zozname nenachádza."
   ]
  },
  {
   "cell_type": "code",
   "execution_count": 41,
   "metadata": {},
   "outputs": [
    {
     "name": "stdout",
     "output_type": "stream",
     "text": [
      "-1\n"
     ]
    },
    {
     "data": {
      "text/plain": [
       "7"
      ]
     },
     "execution_count": 41,
     "metadata": {},
     "output_type": "execute_result"
    }
   ],
   "source": [
    "values = [24, 26, 25, 45, 25, 23, 50, 51]\n",
    "\n",
    "# cyklus otestujte pre nasledujúce hodnoty\n",
    "#value = 25  # 'index' by mal byť 2 (prvý výskyt hodnoty 25 je na 3 pozícii s indexom 2)\n",
    "\n",
    "value = 21 # 'index' by mal byť -1 (21 sa v zozname nenachádza)\n",
    "\n",
    "index = -1\n",
    "for i, x in enumerate(values):\n",
    "    if x == value:\n",
    "        index = i\n",
    "        break\n",
    "print(index)    "
   ]
  },
  {
   "cell_type": "markdown",
   "metadata": {},
   "source": [
    "### Úloha 3.7\n",
    "\n",
    "Vypočítajte priemerné hodnoty v riadkoch a v stĺpcoch nasledujúcej matice."
   ]
  },
  {
   "cell_type": "code",
   "execution_count": 40,
   "metadata": {},
   "outputs": [
    {
     "name": "stdout",
     "output_type": "stream",
     "text": [
      "2.0\n",
      "5.0\n",
      "8.0\n",
      "11.0\n",
      "0 11.0\n",
      "1 11.0\n",
      "2 11.0\n"
     ]
    }
   ],
   "source": [
    "matrix = [[1, 2, 3], [4, 5, 6], [7, 8, 9], [10, 11, 12]]\n",
    "\n",
    "for row in matrix:\n",
    "    sum = 0\n",
    "    for x in row:\n",
    "        sum += x\n",
    "    avg = sum/len(row)    \n",
    "    print(avg)\n",
    "    \n",
    "num_rows = len(matrix)\n",
    "num_colums = len(matrix[0])    \n",
    "#i riadky  \n",
    "#j stlpce\n",
    "\n",
    "for j in range(num_colums):\n",
    "    sum = 0\n",
    "    for i in range(num_rows):\n",
    "        sum += matrix[i][j]\n",
    "    avg_colums = sum / num_rows\n",
    "    print(j, avg)\n",
    "    \n",
    "    \n",
    "#alebo riadky cez indexy\n",
    "\n",
    "for i in range(num_rows):\n",
    "    sum = 0\n",
    "    for j in range(num_colums):\n",
    "        sum += matrix[i][j]\n",
    "        \n",
    "    "
   ]
  },
  {
   "cell_type": "markdown",
   "metadata": {},
   "source": [
    "### Úloha 3.8\n",
    "\n",
    "Rozdeľte nasledujúci text na riadky, v cykle pre každý riadok preveďte všetky písmena na malé a vypíšte zmenené riadky na obrazovku funkciou `print`."
   ]
  },
  {
   "cell_type": "code",
   "execution_count": 43,
   "metadata": {},
   "outputs": [
    {
     "name": "stdout",
     "output_type": "stream",
     "text": [
      "bridgekeeper: hee hee heh. stop. what... is your name?\n",
      "king arthur: it is 'arthur', king of the britons.\n",
      "bridgekeeper: what... is your quest?\n",
      "king arthur: to seek the holy grail.\n",
      "bridgekeeper: what... is the air-speed velocity of an unladen swallow?\n",
      "king arthur: what do you mean? an african or european swallow?\n"
     ]
    }
   ],
   "source": [
    "text = \"\"\"Bridgekeeper: Hee hee heh. Stop. What... is your name?\n",
    "King Arthur: It is 'Arthur', King of the Britons.\n",
    "Bridgekeeper: What... is your quest?\n",
    "King Arthur: To seek the Holy Grail.\n",
    "Bridgekeeper: What... is the air-speed velocity of an unladen swallow?\n",
    "King Arthur: What do you mean? An African or European swallow?\"\"\"\n",
    "\n",
    "lines = text.split(\"\\n\")\n",
    "for line in lines:\n",
    "    print(line.lower())"
   ]
  },
  {
   "cell_type": "markdown",
   "metadata": {},
   "source": [
    "### Úloha 3.9\n",
    "Naprogramujte skript jednoduchej kalkulačky, ktorá v cykle načíta na vstupe reťazec reprezentujúci číselný výraz v tvare:\n",
    "`[číslo1] [operácia] [číslo2]` a vypočíta jeho číselnú hodnotu. Čísla môžu byť celé, alebo desatinné, a operácia môže byť +-*/.\n",
    "Výsledok vypíšte na 4 desatinné miesta."
   ]
  },
  {
   "cell_type": "code",
   "execution_count": 48,
   "metadata": {},
   "outputs": [
    {
     "name": "stdout",
     "output_type": "stream",
     "text": [
      "2.0\n"
     ]
    }
   ],
   "source": [
    "# ako vstup pre testovanie použite nasledujúci zoznam výrazov\n",
    "exprs = [\"1 + 2\", \"2 * 3.14\", \"2 - 3.0\", \"10 / 5\"]   #exprs = expresions = vyrazy\n",
    "\n",
    "for expr in exprs:\n",
    "    parts = expr.split(\" \")\n",
    "    x = float(parts[0])\n",
    "    opr = parts[1]   #operator\n",
    "    y = float(parts[2])\n",
    "    \n",
    "if opr == \"+\":\n",
    "    print(x+y)\n",
    "elif opr == \"*\":\n",
    "    print(x*y)\n",
    "elif opr == \"/\": \n",
    "    print(x/y)\n",
    "elif opr == \"-\":\n",
    "    print(x-y)\n"
   ]
  },
  {
   "cell_type": "markdown",
   "metadata": {},
   "source": [
    "### Úloha 3.10\n",
    "Na vstupe máte nasledujúce textové dáta:"
   ]
  },
  {
   "cell_type": "code",
   "execution_count": 54,
   "metadata": {},
   "outputs": [
    {
     "name": "stdout",
     "output_type": "stream",
     "text": [
      "[\"'power'; 'weight'; 'hybrid'; 'producer'\", \"55.3; 1450.0; false; 'ford'\", \"100; 2500.0; false; 'ford'\", \"60.5; 1150.0; true; 'toyota'\", \"56; ?; false; 'volkswagen'\", \"75.2; 1480.0; false; 'volkswagen'\", \"80.1; 1630.0; false; 'peugeot'\"]\n"
     ]
    }
   ],
   "source": [
    "data = \"\"\"'power'; 'weight'; 'hybrid'; 'producer'\n",
    "55.3; 1450.0; false; 'ford'\n",
    "100; 2500.0; false; 'ford'\n",
    "60.5; 1150.0; true; 'toyota'\n",
    "56; ?; false; 'volkswagen'\n",
    "75.2; 1480.0; false; 'volkswagen'\n",
    "80.1; 1630.0; false; 'peugeot'\"\"\"\n",
    "\n",
    "datas = data.split(\"\\n\")\n",
    "for line in datas:\n",
    "    line.split(\";\")\n",
    "print(datas)"
   ]
  },
  {
   "cell_type": "markdown",
   "metadata": {},
   "source": [
    "1. rozdelíme text na riadky (oddelovač nový riadok)\n",
    "2. pre každý riadok\n",
    "    2.1 Oddelíme hodnoty na riadku (oddelovač ;)\n",
    "    2.2.pre každú hodnotu \n",
    "        Ak cislo (obsahuje .)-previest na cislo\n",
    "        alebo ak \"true\" alebo \"false\" - previest na Boolean (True, False)\n",
    "        alebo ak \"?\" - hodnota bude None\n",
    "        inak zmaz uvodzovky zo zaciatku aj konca\n",
    "        zmen hodnotu riadku\n",
    "    Pridaj riadok\n",
    "    \n",
    "    \n",
    "    \n",
    "    vysledok ako matica\n",
    "    \n",
    "    najprv rob ciastkove priklady na skusku, napr. najdi minimum, vymysli si priklad"
   ]
  },
  {
   "cell_type": "markdown",
   "metadata": {},
   "source": [
    "Napíšte skript, ktorý:\n",
    "* Rozdelí text na riadky a oddelí dátové polia. Hodnoty polí prevedie z reťazca na dátový typ Pythonu, tzn. čísla, reťazce bez oddeľovačov a Boolovské hodnoty.\n",
    "* Chýbajúce hodnoty označené `?` reprezentujte konštantou `None`.\n",
    "* Pre číselné polia vypíše základné štatistiky: min./max./priemernú hodnotu a štandardnú odchýlku zaokrúhlené na 4 desatinné miesta.\n",
    "* Pre textové polia vypíše zoznam hodnôt usporiadaný podľa abecedy."
   ]
  },
  {
   "cell_type": "code",
   "execution_count": null,
   "metadata": {},
   "outputs": [],
   "source": []
  }
 ],
 "metadata": {
  "kernelspec": {
   "display_name": "Python 3",
   "language": "python",
   "name": "python3"
  },
  "language_info": {
   "codemirror_mode": {
    "name": "ipython",
    "version": 3
   },
   "file_extension": ".py",
   "mimetype": "text/x-python",
   "name": "python",
   "nbconvert_exporter": "python",
   "pygments_lexer": "ipython3",
   "version": "3.7.1"
  }
 },
 "nbformat": 4,
 "nbformat_minor": 2
}
