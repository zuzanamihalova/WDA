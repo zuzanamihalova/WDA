{
 "cells": [
  {
   "cell_type": "markdown",
   "metadata": {},
   "source": [
    "## Dátové typy\n",
    "\n",
    "Python rozlišuje ako základné typy Boolovské hodnoty, čísla (celé a desatinné) a reťazce. Ak chcete definovať premennú s prázdnou hodnotou, môžete ako hodnotu zadať konštantu `None`."
   ]
  },
  {
   "cell_type": "code",
   "execution_count": null,
   "metadata": {},
   "outputs": [],
   "source": [
    "empty = None"
   ]
  },
  {
   "cell_type": "markdown",
   "metadata": {},
   "source": [
    "### Boolovské hodnoty\n",
    "Boolovské hodnoty `True` a `False` sa používajú hlavne na testovanie a môžete ich kombinovať spojkami `or`, `and` alebo `not`. "
   ]
  },
  {
   "cell_type": "code",
   "execution_count": null,
   "metadata": {},
   "outputs": [],
   "source": [
    "not (10 < 20 and 30 > 20) # = False\n",
    "# okrem <, > môžete používať napr. porovnania <=, >=, == (má rovnakú hodnotu), != (nemá rovnakú hodnotu)"
   ]
  },
  {
   "cell_type": "markdown",
   "metadata": {},
   "source": [
    "Dávajte si pozor na rozdiel medzi zápisom `=` pre priradenie hodnoty premenne a `==` pre porovnanie. Prázdnu hodnotu môžete otestovať operátorom `is` (resp. `is not`), ktorá porovnáva typ objektov (nie ich hodnotu), napr.:"
   ]
  },
  {
   "cell_type": "code",
   "execution_count": null,
   "metadata": {},
   "outputs": [],
   "source": [
    "answer = False\n",
    "answer is not None # = True"
   ]
  },
  {
   "cell_type": "markdown",
   "metadata": {},
   "source": [
    "### Čísla\n",
    "\n",
    "S číslami môžete používať bežné operácie `+` `-` `*` `/`."
   ]
  },
  {
   "cell_type": "code",
   "execution_count": null,
   "metadata": {},
   "outputs": [],
   "source": [
    "(50 - 5.0 * 6) / 4    # = 5.0"
   ]
  },
  {
   "cell_type": "code",
   "execution_count": null,
   "metadata": {},
   "outputs": [],
   "source": [
    "# Python 2 zachová pri delení celých čísel iba celú časť (Python 3 vypočíta desatinný výsledok)\n",
    "17 / 3                # = 5 pre Python 2\n",
    "# ak je aspoň jedno číslo desatinné, vypočíta sa desatinný výsledok\n",
    "17 / 3.0              # = 5.666666666666667 - pre kompatibilitu pridajte .0 aj pre celé čísla\n",
    "17 // 3.0             # = 5.0 - // vypočíta iba celú časť delenia aj pre desatinné čísla\n",
    "17 % 3                # = 2 - % vypočíta celočíselný zvyšok po delení\n",
    "3 ** 2                # = 9 - ** vypočíta mocninu\n",
    "9 ** 0.5              # = 3.0 - ** môžete použiť aj na výpočet odmocniny"
   ]
  },
  {
   "cell_type": "markdown",
   "metadata": {},
   "source": [
    "Nekonečno a -nekonečno môžete zapísať funkciou `float(\"inf\")` a `float(\"-inf\")`."
   ]
  },
  {
   "cell_type": "code",
   "execution_count": null,
   "metadata": {},
   "outputs": [],
   "source": [
    "float(\"-inf\") < -999999   # = True "
   ]
  },
  {
   "cell_type": "markdown",
   "metadata": {},
   "source": [
    "### Reťazce\n",
    "\n",
    "Reťazce môžete zadávať do jednoduchých apostrofov alebo úvodzoviek. Ohraničujúce znaky \\' a \\\" môžete do reťazca vložiť cez postupnosť `\\'` resp. `\\\"` ak je reťazec ohraničený úvodzovkami. Podobne môžete do reťazca vložiť znak pre nový riadok `\\n`, tabulátor `\\t` alebo samotný znak \\ ako `\\\\`. V Interpretereri sa reťazce zobrazia tak ako ich zapíšete aj s úvodnými apostrofmi, na výpis hodnôt preto používajte funkciu `print([reťazec])`."
   ]
  },
  {
   "cell_type": "code",
   "execution_count": null,
   "metadata": {},
   "outputs": [],
   "source": [
    "s = '\"Isn\\'t,\" she said.'\n",
    "s"
   ]
  },
  {
   "cell_type": "code",
   "execution_count": null,
   "metadata": {},
   "outputs": [],
   "source": [
    "print(s)"
   ]
  },
  {
   "cell_type": "code",
   "execution_count": null,
   "metadata": {},
   "outputs": [],
   "source": [
    "# môžete definovať aj prázdny reťazec\n",
    "s = \"\"\n",
    "\n",
    "# reťazce ohraničené úvodzovkami alebo apostrofmi musia byť zapísané na jednom riadku\n",
    "# ak chcete zadať viacriadkový reťazec bez zápisu \\n, môžete reťazec ohraničiť troma úvodzovkami\n",
    "s = \"\"\"first line\n",
    "second line\"\"\"\n",
    "# reťazce môžete spájať cez + alebo opakovať cez *\n",
    "s = \"Py\"\n",
    "print(s + \"thon is c\" + 3*\"oo\" + \"l\") # = Python is cooooool"
   ]
  },
  {
   "cell_type": "markdown",
   "metadata": {},
   "source": [
    "Takmer všetky objekty a hodnoty viete previesť na reťazec funkciou `str([hodnota])`."
   ]
  },
  {
   "cell_type": "code",
   "execution_count": null,
   "metadata": {},
   "outputs": [],
   "source": [
    "print(\"Py\" + str(123) + str(True))  # = Py123True"
   ]
  },
  {
   "cell_type": "markdown",
   "metadata": {},
   "source": [
    "Reťazec môžete previesť na celé číslo funkciou `int([reťazec])` a na desatinné `float([reťazec])`. Ak sa reťazec nedá previesť na číslo, príkaz skončí chybou `ValueError`."
   ]
  },
  {
   "cell_type": "code",
   "execution_count": null,
   "metadata": {},
   "outputs": [],
   "source": [
    "(1 + int(\"1\")) / float(\"2.0\")   # = 1.0"
   ]
  },
  {
   "cell_type": "markdown",
   "metadata": {},
   "source": [
    "K jednotlivým znakom reťazca môžete pristupovať cez zápis `reťazec[index]`."
   ]
  },
  {
   "cell_type": "code",
   "execution_count": null,
   "metadata": {},
   "outputs": [],
   "source": [
    "s = \"Python\"\n",
    "print(s[1]) # = y - indexovanie je od 0"
   ]
  },
  {
   "cell_type": "code",
   "execution_count": null,
   "metadata": {},
   "outputs": [],
   "source": [
    "print(s[-3]) # = h - záporné indexy počítajú znaky od posledného, t.j, -1, posledný znak, -2 predposledný atď."
   ]
  },
  {
   "cell_type": "markdown",
   "metadata": {},
   "source": [
    "Podreťazce môžete zadať ako rozsah znakov `[od:do]` (vyberú sa znaky vrátane indexu od, bez do)."
   ]
  },
  {
   "cell_type": "code",
   "execution_count": null,
   "metadata": {},
   "outputs": [],
   "source": [
    "s[2:5]      # vypíše ‘tho’ - podreťazec od 3 znaku do 5 (vrátane, indexovanie je od 0)\n",
    "s[:5]       # vypíše ‘Pytho’ – podreťazec od začiatku po 5 znak (vrátane, indexovanie je od 0)\n",
    "s[-2:]      # vypíše ‘on’ – podreťazec od predposledného znaku do konca"
   ]
  },
  {
   "cell_type": "markdown",
   "metadata": {},
   "source": [
    "Ak sa pokúsite pristupovať ku znakom mimo rozsahu, príkaz skončí chybou `IndexError: string index out of range`. Reťazce sú v Pythone nemenné, takže napr. nemôžete zmeniť 2 znak zápisom `s[1] = 'i'`. Dĺžku reťazca vráti funkcia `len(s)`."
   ]
  },
  {
   "cell_type": "code",
   "execution_count": null,
   "metadata": {},
   "outputs": [],
   "source": [
    "len(s) # = 6 (s = 'Python')"
   ]
  },
  {
   "cell_type": "markdown",
   "metadata": {},
   "source": [
    "Samotné reťazce sú objekty, ktoré majú definované rôzne metódy slúžiace na transformáciu znakov, vyhľadávanie podreťazcov, rozdeľovanie a pod. Všetky metódy vracajú nový reťazec a pôvodný reťazec zostane nezmenený. Nasledujúca tabuľka uvádza prehľad niektorých metód.\n",
    "\n",
    "| **Príkaz**    | **Popis**     |\n",
    "| ------------- |---------------|\n",
    "| `s.lower()`   | Prevedie všetky písmená reťazca na malé. |\n",
    "| `s.upper()`   | Prevedie všetky písmená reťazca na veľké. |\n",
    "| `s.strip()`   | Odstráni zo začiatku a konca reťazca prázdne znaky (medzery, tabulátory a znaky konca riadka). |\n",
    "| `s.find(sub)` | Vráti index prvého výskytu podreťazca `sub`, alebo -1 ak sa `sub` v reťazci nevyskytuje. Voliteľne môžete zadať počiatočný index od ktorého sa začne reťazec prehľadávať `s.find(sub, start)`, alebo rozsah indexov v ktorom sa musí nachádzať celý podreťazec `s.find(sub, start, end)`. |\n",
    "| `s.replace(old, new)` | Nahradí v reťazci všetky výskyty reťazca `old` za `new`. |\n",
    "| `s.startswith(preffix)` | Vráti `True` ak reťazec začína zadaným prefixom, inak vráti `False`. |\n",
    "| `s.endswith(suffix)` | Vráti `True` ak reťazec končí zadaným sufixom, inak vráti `False`. |\n",
    "| `s.split(sep)` | Rozdelí reťazec podľa zadaného oddeľovača `sep` a vráti zoznam rozdelených podreťazcov (pozri ďalšiu kapitolu o zoznamoch). Ak sa parameter `sep` vynechá, `s.split()` rozdelí reťazec podľa prázdnych znakov. |\n",
    "| `s.join(args)` | Prevedie prvky zoznamu alebo n-tice `args` na reťazec a spojí ich oddeľovačom `s` (pozri ďalšiu kapitolu o zoznamoch). |"
   ]
  },
  {
   "cell_type": "code",
   "execution_count": null,
   "metadata": {},
   "outputs": [],
   "source": [
    "# volanie viacerých metód môžete zreťaziť\n",
    "print(\"  Python \\t\".strip().upper().replace(\"PY\", \"py\")) # = pyTHON"
   ]
  },
  {
   "cell_type": "code",
   "execution_count": null,
   "metadata": {},
   "outputs": [],
   "source": [
    "# pri vyhľadávaní podreťazcov môžete zadať aj rozsah s negatívnymi indexami\n",
    "\"one two one\".find(\"one\", -5) # = 8 - index druhého výskytu, vyhľadávaný text musí byť medzi poslednými 5 znakmi"
   ]
  },
  {
   "cell_type": "markdown",
   "metadata": {},
   "source": [
    "### Formátovanie správ\n",
    "\n",
    "Pre formátovanie správ, ktoré zobrazujú rôzne typy hodnôt je výhodné použiť metódu `s.format(arg0, arg1, arg2, ...)` ktorá prevedie hodnoty argumentov na reťazce a nahradí nimi v reťazci `s` formátovacie polia ohraničené `{}`. V nasledujúcom príklade sa v reťazci `\"Hello {0}...\"` nahradí formátovacie pole `{0}` za reťazec `\"world\"`, ktorý sme predali priamo pri volaní metódy `format` ako prvý parameter."
   ]
  },
  {
   "cell_type": "code",
   "execution_count": null,
   "metadata": {},
   "outputs": [],
   "source": [
    "print(\"Hello {0}...\".format(\"world\")) #= Hello world..."
   ]
  },
  {
   "cell_type": "markdown",
   "metadata": {},
   "source": [
    "Viac informácií o formátovaní nájdete v nasledujúcom príklade, alebo [tu](https://docs.python.org/3.7/library/string.html#formatstrings) (v angličtine)."
   ]
  },
  {
   "cell_type": "code",
   "execution_count": null,
   "metadata": {},
   "outputs": [],
   "source": [
    "# polia môžete použiť na odsadzovanie textu medzerami nasledujúcim zápisom:\n",
    "print(\"{0:>20}\".format(\"right text\")) # pridané nastavenie :>20 odsadí text medzerami doprava tak aby mal celkovo 20 znakov\n",
    "\n",
    "# podobne zápis :<n doplní medzery za text tak aby mal celkovo n znakov (odsadenie doľava)\n",
    "print(\"{0:<20}{1}\".format(\"left\", \"text\")) # vo formátovacom reťazci sme definovali dve polia, do prvého sa sformátuje hodnota \"left\" a do druhého \"text\"\n",
    "\n",
    "# text môžete aj vycentrovať\n",
    "print(\"{0:^30}\".format(\"center\")) # riadok je celkovo široký 30 znakov\n",
    "\n",
    "# na miesto medzery môžete definovať vlastný znak pre doplnenie za : (to platí aj pre zarovnávanie doprava a doľava)\n",
    "print(\"{0:*^30}\".format(\"center\")) # doplníme text znakom * namiesto medzery\n",
    "\n",
    "# celé čísla môžete zapísať v desiatkovej, hexadecimálnej, osmičkovej alebo binárnej reprezentácii\n",
    "print(\"{0:d}, hex: {0:x}, oct: {0:o}, bin: {0:b}\".format(42)) # = ‘42, hex: 2a, oct: 52, bin: 101010’\n",
    "\n",
    "# pri desatinných číslach môžete definovať koľko desatinných miest za čiarkou sa má vypísať\n",
    "print(\"{0:.3f}\".format(3.141592654)) # vypíše iba ‘3.142’ (5 sa zaokrúhľuje smerom hore)"
   ]
  },
  {
   "cell_type": "markdown",
   "metadata": {},
   "source": [
    "Podrobnejší popis ďalších metód pre reťazce nájdete [tu](https://docs.python.org/3.7/library/stdtypes.html#string-methods) (v angličtine)."
   ]
  },
  {
   "cell_type": "markdown",
   "metadata": {},
   "source": [
    "## Úlohy\n",
    "\n",
    "### Úloha 1.1\n",
    "\n",
    "Pre premenné `gender` a `age` napíšte logický (Boolovský) výraz pre podmienku:\n",
    "* `gender` má hodnotu `\"f\"`, alebo `\"F\"`\n",
    "* `age` má priradenú hodnotu (nie je `None`) a má hodnotu viac než 25 rokov vrátane\n"
   ]
  },
  {
   "cell_type": "code",
   "execution_count": null,
   "metadata": {},
   "outputs": [],
   "source": [
    "# výraz postupne otestujte pre zadané hodnoty\n",
    "gender = \"f\"\n",
    "age = 30\n",
    "\n",
    "#gender = \"m\"\n",
    "#age = 30\n",
    "\n",
    "#gender = \"F\"\n",
    "#age = None\n",
    "\n",
    "#gender = \"F\"\n",
    "#age = 25\n",
    "\n",
    "#gender = \"f\"\n",
    "#age = 24"
   ]
  },
  {
   "cell_type": "markdown",
   "metadata": {},
   "source": [
    "### Úloha 1.2\n",
    "\n",
    "Vytvorte premennú `s` do ktorej priradíte nasledujúci dvojriadkový text:\n",
    "```\n",
    "Stop. What... is your name?\n",
    "    It's \"Arthur\", King of the \\Britons\\.\n",
    "```\n",
    "Druhý riadok je odsadený tabulátorom. Reťazec zapíšte na jeden riadok a pre tabuláror používajte postupnosť `\\t`."
   ]
  },
  {
   "cell_type": "markdown",
   "metadata": {},
   "source": [
    "### Úloha 1.3\n",
    "\n",
    "Z nasledujúceho reťazca odstráňte úvodné a koncové prázdne znaky a preveďte ho na veľké písmená."
   ]
  },
  {
   "cell_type": "code",
   "execution_count": null,
   "metadata": {},
   "outputs": [],
   "source": [
    "s = \"  It is 'Arthur', King of the Britons. \""
   ]
  },
  {
   "cell_type": "markdown",
   "metadata": {},
   "source": [
    "### Úloha 1.4\n",
    "\n",
    "V reťazci `s` vyhľadajte slovo `King` a vyberte iba podreťazec od jeho výskytu do konca reťazca `s`."
   ]
  },
  {
   "cell_type": "code",
   "execution_count": null,
   "metadata": {},
   "outputs": [],
   "source": [
    "s = \"It is 'Arthur', King of the Britons.\""
   ]
  },
  {
   "cell_type": "markdown",
   "metadata": {},
   "source": [
    "### Úloha 1.5\n",
    "Pomocou formátovacích reťazcov a funkcie `print` vypíšte nasledujúcu tabuľku s hodnotami premenných `sepal_length` a `sepal_width`:\n",
    "\n",
    "```\n",
    "Name          |   Average\n",
    "-------------------------\n",
    "sepal_length  |     10.82\n",
    "sepal_width   |      6.52\n",
    "```\n",
    "\n",
    "Šírka stĺpca `Name` je 15 znakov a text je zarovnaný doľava, šírka `Average` je 10 znakov a je zarovnaný doprava. Oddeľovací riadok vypíšte opakovaním znaku `-`."
   ]
  },
  {
   "cell_type": "code",
   "execution_count": null,
   "metadata": {},
   "outputs": [],
   "source": [
    "# formátovacie nastavenia v poly môžete aj kombinovať, napr zápis {0:>15.4f} vypíše číslo na 4 desatinné miesta\n",
    "# a odsadí ho medzerami doľava tak, aby mal celkový reťaz 15 znakov\n",
    "\n",
    "sepal_length = 10.82134569\n",
    "sepal_width = 6.51984369"
   ]
  }
 ],
 "metadata": {
  "kernelspec": {
   "display_name": "Python 3",
   "language": "python",
   "name": "python3"
  },
  "language_info": {
   "codemirror_mode": {
    "name": "ipython",
    "version": 3
   },
   "file_extension": ".py",
   "mimetype": "text/x-python",
   "name": "python",
   "nbconvert_exporter": "python",
   "pygments_lexer": "ipython3",
   "version": "3.7.2"
  }
 },
 "nbformat": 4,
 "nbformat_minor": 2
}
