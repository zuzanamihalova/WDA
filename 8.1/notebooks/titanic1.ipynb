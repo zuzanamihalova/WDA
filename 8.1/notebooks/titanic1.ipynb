{
 "cells": [
  {
   "cell_type": "markdown",
   "metadata": {},
   "source": [
    "## Základné nastavenia\n",
    "\n",
    "Importujeme potrebné knižnice. Nasledujúci odstavec by mal byť spustený ako prvý predtým ako sa budú používať importované objekty `pd`, `np`, `plt` a `sns`."
   ]
  },
  {
   "cell_type": "code",
   "execution_count": null,
   "metadata": {},
   "outputs": [],
   "source": [
    "import pandas as pd\n",
    "import numpy as np\n",
    "import matplotlib.pyplot as plt\n",
    "import seaborn as sns\n",
    "\n",
    "# nastavíme zobrazovanie grafov priamo v odstavcoch zápisníka\n",
    "%matplotlib inline\n",
    "# inicializujeme knižnicu seaborn\n",
    "sns.set()"
   ]
  },
  {
   "cell_type": "markdown",
   "metadata": {},
   "source": [
    "## Dátová množina - Titanic\n",
    "\n",
    "\n",
    "[RMS Titanic](https://en.wikipedia.org/wiki/RMS_Titanic) bola britská osobná loď, ktorá stroskotala 15 apríla 1912 na svojej prvej komerčnej plavbe. V čase svojej služby bola najväčšou plávajúcou loďou na svete. Pri nehode zahynulo viac než 1500 osôb z celkového odhadovaného počtu 2224 pasažierov a členov posádky.\n",
    "\n",
    "![RMS Titanic](titanic.jpg)\n",
    "[Zdroj](https://en.wikipedia.org/wiki/Sinking_of_the_RMS_Titanic)\n",
    "\n",
    "Dátová množina obsahuje informácie o pasažieroch Titanicu. Každý pasažier je popísaný nasledovnými atribútmi:\n",
    "* `pclass` - trieda, v ktorej pasažier cestoval\n",
    "* `survived` - udáva, či pasažier nehodu parníku prežil (1), alebo nie (0)\n",
    "* `name` - meno cestujúceho\n",
    "* `sex` - pohlavie\n",
    "* `age` - vek\n",
    "* `sibsp` - počet súrodencov pasažiera, resp. druhov/družiek\n",
    "* `parch` - počet rodičov/detí medzi cestujúcimi\n",
    "* `ticket` - číslo lístka\n",
    "* `fare` - výška cestovného\n",
    "* `cabin` - kajuta v ktorej bol cestujúci ubytovaný\n",
    "* `embarked` - prístav, kde cestujúci nastúpil (`S` - Southampton, `C` - Cherbourg, `Q` - Queenstown)"
   ]
  },
  {
   "cell_type": "code",
   "execution_count": null,
   "metadata": {},
   "outputs": [],
   "source": [
    "data = pd.read_csv(\"../data/titanic.csv\") # načítame si dáta zo súboru ../data/titanic.csv\n",
    "print(data.shape) # zobrazíme rozmer dátovej tabuľky v tvare (počet riadkov, počet stĺpcov)\n",
    "print(data.columns) # zobrazíme názvy stĺpcov"
   ]
  },
  {
   "cell_type": "code",
   "execution_count": null,
   "metadata": {},
   "outputs": [],
   "source": [
    "data.head() # zobrazíme prvých 5 riadkov tabuľky"
   ]
  },
  {
   "cell_type": "markdown",
   "metadata": {},
   "source": [
    "### Úprava hodnôt\n",
    "\n",
    "Keďže označenie lístka nevieme priamo interpretovať a nevieme z neho zistiť užitočné informácie o pasažieroch, stĺpec `ticket` odstránime z dátovej tabuľky."
   ]
  },
  {
   "cell_type": "code",
   "execution_count": null,
   "metadata": {},
   "outputs": [],
   "source": [
    "data.drop(columns=\"ticket\", inplace=True) # odstránime stĺpec ticket priamo z dátového rámca data"
   ]
  },
  {
   "cell_type": "markdown",
   "metadata": {},
   "source": [
    "V sĺpci `embarked` si nahradíme skratky `S`, `Q`, a `C` za `Southampton`, `Queenstown` a `Cherbourg`."
   ]
  },
  {
   "cell_type": "code",
   "execution_count": null,
   "metadata": {},
   "outputs": [],
   "source": [
    " # hodnoty kategorických atribútov môžete premapovať pomocou metódy map objektu typu Series\n",
    "data[\"embarked\"] = data[\"embarked\"].map({\"S\": \"Southampton\", \"Q\": 'Queenstown', \"C\":\"Cherbourg\"})\n",
    "data[\"embarked\"].value_counts() # zobrazíme si rôzne hodnoty po nahradení a ich početnosti"
   ]
  },
  {
   "cell_type": "markdown",
   "metadata": {},
   "source": [
    "### Nahradenie chýbajúcich hodnôt 1\n",
    "\n",
    "Jedným zo základných krokov predspracovania dát je spracovanie prázdnych hodnôt. Pri výskyte prázdnych hodnôt je potrebné rozlišovať, či ide o _chýbajúce hodnoty_ - tzn. daný záznam by mal mať uvedenú hodnotu, ale z nejakého dôvodu nie je vyplnená, alebo či pre daný záznam daný atribút nemá význam uvádzať. Pri chýbajúcich hodnotách sa môžeme pokúsiť hodnoty doplniť tak, aby sme čo najmenej narušili vzťahy v dátach, resp. ak je chýbajúcich hodnôt príliš veľa, môžeme z dátovej množiny odstrániť jednotlivé stĺpce, alebo záznamy s chýbajúcimi hodnotami."
   ]
  },
  {
   "cell_type": "code",
   "execution_count": null,
   "metadata": {},
   "outputs": [],
   "source": [
    "# metóda isna vráti tabuľku iba s Boolovskými hodnotami pre každý stĺpec (True - chýbajúca hodnota, False - neprázdna hodnota)\n",
    "# sum potom spočíta počet hodnôt True (tzn. počet chýbajúcich hodnôt pre každý stĺpec)\n",
    "data.isna().sum() # spočítame si počet chýbajúcich hodnôt"
   ]
  },
  {
   "cell_type": "markdown",
   "metadata": {},
   "source": [
    "Nahradíme chýbajúe hodnoty pre stĺpec `fare`."
   ]
  },
  {
   "cell_type": "code",
   "execution_count": null,
   "metadata": {},
   "outputs": [],
   "source": [
    "p = data[\"fare\"].hist() # vykreslíme si histogram hodnôt"
   ]
  },
  {
   "cell_type": "code",
   "execution_count": null,
   "metadata": {},
   "outputs": [],
   "source": [
    "# vypočítame si strednú hodnotu a medián\n",
    "fare_mean = data[\"fare\"].mean()\n",
    "fare_median = data[\"fare\"].median()\n",
    "print(\"fare mean: {0:.4f}, median: {1:.4f}\".format(fare_mean, fare_median))"
   ]
  },
  {
   "cell_type": "code",
   "execution_count": null,
   "metadata": {},
   "outputs": [],
   "source": [
    "# keďže hodnoty fare sú značne vychýlené, chýbajúce hodnoty nahradíme mediánom, ktorý lepšie charakterizuje najčastejšie sa vyskytujúce hodnoty\n",
    "data[\"fare\"].fillna(fare_median, inplace=True)\n",
    "data[\"fare\"].isna().sum() # skontrolujeme počet chýbajúcich hodnôt po nahradení"
   ]
  },
  {
   "cell_type": "markdown",
   "metadata": {},
   "source": [
    "### Úloha 8.1\n",
    "\n",
    "Chýbajúce hodnoty pre atribút `embarked` nahraďte najfrekventovanejšou hodnotou."
   ]
  },
  {
   "cell_type": "code",
   "execution_count": null,
   "metadata": {},
   "outputs": [],
   "source": [
    "# nahraďte chýbajúce hodnoty\n",
    "\n",
    "# skontrolujeme počet chýbajúcich hodnôt po nahradení\n",
    "data[\"embarked\"].isna().sum()"
   ]
  },
  {
   "cell_type": "markdown",
   "metadata": {},
   "source": [
    "### Odvodenie nových atribútov\n",
    "\n",
    "Odvodením nových atribútov z existujúcich hodnôt môžeme z dátovej množiny často získať užitočné informácie, ktoré v nej nie sú priamo vyjadrené."
   ]
  },
  {
   "cell_type": "code",
   "execution_count": null,
   "metadata": {},
   "outputs": [],
   "source": [
    "# vytvoríme si nový atribút family, ktorý bude udávať celkový počet príbuzných (súčet sibsp + parch)\n",
    "data[\"family\"] = data.eval(\"sibsp + parch\")\n",
    "p = data[\"family\"].hist()"
   ]
  },
  {
   "cell_type": "code",
   "execution_count": null,
   "metadata": {},
   "outputs": [],
   "source": [
    "# vytvoríme si nový binárny atribút has_family, ktorý bude udávať, či pasažier cestoval s rodinou\n",
    "data[\"has_family\"] = data.eval(\"family > 0\")\n",
    "data[\"has_family\"].sum() # spočítame, koľko pasažierov cestovalo s rodinou"
   ]
  },
  {
   "cell_type": "markdown",
   "metadata": {},
   "source": [
    "Mená pasažierov sú vo formáte `priezvisko, titul. meno`. Vyextrahujeme si z mena hodnoty titulov."
   ]
  },
  {
   "cell_type": "code",
   "execution_count": null,
   "metadata": {},
   "outputs": [],
   "source": [
    "# definujeme si funkciu, ktorá z celého reťazca mena vyextrahuje iba časť titulu\n",
    "def extract_title(name):\n",
    "    if pd.isna(name): # pomocou pd.isna otestujeme, či je name prázdna hodnota\n",
    "        return np.nan # ak je name prázdna hodnota, vrátime prázdnu hodnotu aj pre titul\n",
    "                      # (prázdne hodnoty sú v pandas reprezentované číselnou konštantou np.nan - Not A Number)\n",
    "    start = name.find(\",\") + 1\n",
    "    end = name.find(\".\")\n",
    "    return name[start:end].strip() # z mena vrátime podreťazec od , do . (bez prázdnych znakov na začiatku a konci)\n",
    "\n",
    "# pomocou metódy apply aplikujeme našu funkciu extract_title na všetky hodnoty stĺpca name a vrátené hodnoty uložíme v stĺpci title\n",
    "data[\"title\"] = data[\"name\"].apply(extract_title)\n",
    "# stĺpec name už nebudeme potrebovať, tak ho odstránime z dátovej tabuľky\n",
    "data.drop(columns=\"name\", inplace=True)\n",
    "# zobrazíme si tituly a koľko krát sa vyskytli\n",
    "data[\"title\"].value_counts()"
   ]
  },
  {
   "cell_type": "code",
   "execution_count": null,
   "metadata": {},
   "outputs": [],
   "source": [
    "# pomocou metódy apply si premapujeme tituly na skrátený zoznam, ktorý priradíme do stĺpca title_short\n",
    "def map_title(title):\n",
    "    # všetky hodnostné, alebo šľachtické tituly namapujeme na hodnotu 'rare title'\n",
    "    if title in {\"Master\", \"Dr\", \"Rev\", \"Col\", \"Major\", \"Don\", \"Jonkheer\", \"Sir\", \"Dona\", \"Lady\", \"Capt\", \"the Countess\"}:\n",
    "        return \"rare title\"\n",
    "    elif title in {\"Mlle\", \"Ms\"}: # tituly z francúzštiny\n",
    "        return \"Miss\"\n",
    "    elif title in {\"Mme\"}:\n",
    "        return \"Mrs\"\n",
    "    return title;\n",
    "\n",
    "data[\"title_short\"] = data[\"title\"].apply(map_title)\n",
    "data[\"title_short\"].value_counts()"
   ]
  },
  {
   "cell_type": "markdown",
   "metadata": {},
   "source": [
    "### Nahradenie chýbajúcich hodnôt 2\n",
    "\n",
    "Chýbajúce hodnoty jedného atribútu môžeme lepšie odhadnúť na základe iných atribútov. Napr. zobrazíme si rozdielny vek podľa pohlavia a titulu."
   ]
  },
  {
   "cell_type": "code",
   "execution_count": null,
   "metadata": {},
   "outputs": [],
   "source": [
    "# v kontingenčnej tabuľke si zoskupíme dáta podľa pohlavia a titulu pasažierov a vypočítame základné štatistiky o veku\n",
    "# parameter margins=True pridáva do kontingenčnej tabuľky celkové štatistiky pre každý riadok a stĺpec\n",
    "pd.pivot_table(data, index=[\"sex\", \"title_short\"], values=\"age\", aggfunc=[\"median\", \"mean\", \"min\", \"max\", \"count\"], margins=True)"
   ]
  },
  {
   "cell_type": "code",
   "execution_count": null,
   "metadata": {},
   "outputs": [],
   "source": [
    "# zaujímavý je nízky vek mužov s šľachtickým titulom, zobrazíme si histogram hodnôt v tejto skupine pasažierov\n",
    "l = data.query(\"sex == 'male' and title_short == 'rare title'\")[\"age\"].hist()"
   ]
  },
  {
   "cell_type": "markdown",
   "metadata": {},
   "source": [
    "Metódu `apply` môžeme aplikovať aj na transformovanie/extrahovanie dát odvodených z hodnôt na danom riadku. V nasledujúcom kóde nahradíme chýbajúce hodnoty veku mediánom podľa hodnôt pohlavia a titulu."
   ]
  },
  {
   "cell_type": "code",
   "execution_count": null,
   "metadata": {},
   "outputs": [],
   "source": [
    "# najprv si vypočítame medián pre jednotlivé skupiny pomocou kontingenčnej tabuľky\n",
    "ptable = pd.pivot_table(data, index=[\"sex\", \"title_short\"], values=\"age\", aggfunc=\"median\")\n",
    "ptable"
   ]
  },
  {
   "cell_type": "markdown",
   "metadata": {},
   "source": [
    "Riadky a stĺpce kontingenčnej tabuľky môžu byť označené na viacerých úrovniach, takže musíme pri prístupe k hodnotám tabuľky ako index zadať n-ticu hodnôt pre každú úroveň.\n",
    "V našej tabuľke uloženej v premennej `ptable` majú stĺpce len jednu úroveň (`age`), ale riadky sú označené dvoma úrovňami (`sex` a `title_short`)."
   ]
  },
  {
   "cell_type": "code",
   "execution_count": null,
   "metadata": {},
   "outputs": [],
   "source": [
    "# ak chceme napr. vypísať konkrétnu hodnotu na riadku pre kombináciu (female, Miss), musíme zadať index ako n-ticu\n",
    "# (podobne by sme museli zadaň n-ticu hodnôt aj pre stĺpce, ak by sme mali hierarchické označenia stĺpcov)\n",
    "ptable[\"age\"][(\"female\", \"Miss\")]"
   ]
  },
  {
   "cell_type": "code",
   "execution_count": null,
   "metadata": {},
   "outputs": [],
   "source": [
    "# do premennej age1 si uložíme iba neprázdne hodnoty age (pôvodné dáta sa nezmenia)\n",
    "age1 = data[\"age\"].dropna() # metóda dropna vráti iba záznamy s neprázdnymi hodnotami\n",
    "\n",
    "# definujeme si funkciu s ktorou nahradíme chýbajúce hodnoty veku podľa pohlavia a titulu\n",
    "# row bude objekt reprezentujúci jeden riadok v tabuľke\n",
    "def replace_missing_age(row):\n",
    "    # k hodnotám riadku pre jednotlivé stĺpce môžeme pristupovať indexovaním\n",
    "    age = row[\"age\"] # zistíme si vek, pohlavie a titul pasažiera\n",
    "    sex = row[\"sex\"]\n",
    "    title = row[\"title_short\"]\n",
    "    # ak je vek chýbajúca hodnota, nahradíme ho mediánom v danej skupine určenej podľa pohlavia a titulu\n",
    "    # (vypočítané hodnoty mediánov máme uložené v kontingenčnej tabuľke ptable)\n",
    "    if pd.isna(age):\n",
    "        return ptable[\"age\"][(sex, title)]\n",
    "    else:\n",
    "        return age # inak vrátime známu hodnotu\n",
    "\n",
    "# aplikujeme funkciu replace_missing_age na každý riadok tabuľky (axis=1, prednastavená hodnota axis=0 by aplikovala funkciu po stĺpcoch)\n",
    "# výsledok sú hodnoty age s nahradenými chýbajúcimi hodnotami, ktoré si uložíme do premennej age2\n",
    "age2 = data.apply(replace_missing_age, axis=1)\n",
    "\n",
    "# pre porovnanie si naraz vykreslíme histogram bez nahradenia a po nahradení chýbajúcich hodnôt\n",
    "p = plt.hist([age1, age2])"
   ]
  },
  {
   "cell_type": "code",
   "execution_count": null,
   "metadata": {},
   "outputs": [],
   "source": [
    "data[\"age\"] = age2 # nahradíme stĺpec age s vyplnenými chýbajúcimi hodnotami v pôvodných dátach"
   ]
  },
  {
   "cell_type": "markdown",
   "metadata": {},
   "source": [
    "### Prevedenie číselných atribútov na ordinálne - _diskretizácia hodnôt_"
   ]
  },
  {
   "cell_type": "markdown",
   "metadata": {},
   "source": [
    "Číselné atribúty je možné jednoducho previesť na ordinálne (usporiadané kategorické) atribúty rozdelením na intervaly. Hodnoty môžu byť rozdelené na rovnako široké intervaly, alebo podľa dát na rôzne intervaly tak aby bola početnosť hodnôt v každom intervale približne rovnaká."
   ]
  },
  {
   "cell_type": "code",
   "execution_count": null,
   "metadata": {},
   "outputs": [],
   "source": [
    "data[\"fare\"].describe() #zobrazíme si základné štatistiky pre atribút fare"
   ]
  },
  {
   "cell_type": "code",
   "execution_count": null,
   "metadata": {},
   "outputs": [],
   "source": [
    "data[\"fare_ordinal\"] = pd.cut(data[\"fare\"], 3) # pomocou metódy cut rozdelíme hodnoty do 3 rovnako veľkých intervalov\n",
    "data[\"fare_ordinal\"].value_counts() # zobrazíme si označenia intervalov a ich početnosti"
   ]
  },
  {
   "cell_type": "code",
   "execution_count": null,
   "metadata": {},
   "outputs": [],
   "source": [
    "# väčšina hodnôt patrí približne do intervalu od 0-170, pre lepšie pochopenie distribúcie hodnôt si zobrazíme histogram\n",
    "p = data[\"fare\"].hist(bins=20) # parameter bins udáva počet intervalov pre výpočet histogramu"
   ]
  },
  {
   "cell_type": "code",
   "execution_count": null,
   "metadata": {},
   "outputs": [],
   "source": [
    "# namiesto rozdelenia na rovnako veľké intervaly môžeme dáta rozdeliť pomocou metódy qcut na intervaly s približne rovnakým počtom hodnôt\n",
    "data[\"fare_ordinal\"] = pd.qcut(data[\"fare\"], 3)\n",
    "data[\"fare_ordinal\"].value_counts() # zobrazíme si označenia intervalov a ich početnosti"
   ]
  },
  {
   "cell_type": "code",
   "execution_count": null,
   "metadata": {},
   "outputs": [],
   "source": [
    "# pri metóde cut môžeme priamo zadať hraničné hodnoty intervalov, napr. rozdelíme fare na intervaly [0-25], (25-100] a (100, 520]\n",
    "# štandardne prvý interval nezahŕňa najmenšiu hodnotu, takže ak chceme zahrnúť aj 0 hodnoty, nastavíme include_lowest na True\n",
    "data[\"fare_ordinal\"] = pd.cut(data[\"fare\"], bins=[0, 25, 100, 520], include_lowest=True)\n",
    "data[\"fare_ordinal\"].value_counts()"
   ]
  },
  {
   "cell_type": "code",
   "execution_count": null,
   "metadata": {},
   "outputs": [],
   "source": [
    "# označenia intervalov môžeme priamo pomenovať zadaním parametra labels\n",
    "data[\"fare_ordinal\"] = pd.cut(data[\"fare\"], bins=[0, 25, 100, 520], include_lowest=True, labels=[\"normal\", \"more expensive\", \"most expensive\"])\n",
    "data[\"fare_ordinal\"].value_counts()"
   ]
  },
  {
   "cell_type": "markdown",
   "metadata": {},
   "source": [
    "### Závislosti medzi kategorickými atribútmi\n",
    "\n",
    "Závislosti medzi kategorickými atribútmi môžete skúmať pomocou krížových tabuliek, ktoré udávajú početnosť výskytu všetkých kombinácií hodnôt medzi zvolenými kategorickými atribútmi podobne, ako kontingenčné tabuľky sumarizujú závislosť medzi kategorickými a číselnými hodnotami. Krížové tabuľky sa generujú pomocou metódy `crosstab`."
   ]
  },
  {
   "cell_type": "code",
   "execution_count": null,
   "metadata": {},
   "outputs": [],
   "source": [
    "# vypočítame tabuľku početností pre všetky kombinácie hodnôt medzi atribútmi pclass a sex\n",
    "# všimnite si, že do metódy crosstab musíte narozdiel od pivot_table zadať ako index a columns\n",
    "# priamo dátové atribúty (objekty typu Series)\n",
    "pd.crosstab(index=data[\"pclass\"], columns=data[\"sex\"])"
   ]
  },
  {
   "cell_type": "code",
   "execution_count": null,
   "metadata": {},
   "outputs": [],
   "source": [
    "# podobne ako pri kontingenčnej tabuľke, ako riadky, alebo stĺpce môžeme zadať viacero\n",
    "# atribútov\n",
    "# napr. v nasledujúcej tabuľke vypočítame pre každú kombináciu triedy a výšky cestovného,\n",
    "# koľko žien a koľko mužov si kúpilo daný lístok\n",
    "pd.crosstab(index=[data[\"pclass\"], data[\"fare_ordinal\"]], columns=data[\"sex\"])"
   ]
  },
  {
   "cell_type": "markdown",
   "metadata": {},
   "source": [
    "### Úloha 8.2\n",
    "\n",
    "Odvoďte nový atribút `age_ordinal` diskretizovaním hodnôt `age` na intervaly 0-13, 13-19, 19-65, 65-maximálny vek s označeniami `child`, `young`, `adult`, `old`."
   ]
  },
  {
   "cell_type": "markdown",
   "metadata": {},
   "source": [
    "### Úloha 8.3\n",
    "Pomocou krížovej tabuľky zistite, koľko mužov a žien má aký titul."
   ]
  },
  {
   "cell_type": "markdown",
   "metadata": {},
   "source": [
    "### Úloha 8.4\n",
    "Vytvorte kontingenčnú tabuľku v ktorej prehľadne zobrazíte počet zachránených pasažierov pre skupiny rozdelené podľa veku (`age_ordinal`), triedy a pohlavia. Ak použijete ako agregačnú funkciu strednú hodnotu `survived`, ako môžete výsledné čísla interpretovať?"
   ]
  },
  {
   "cell_type": "markdown",
   "metadata": {},
   "source": [
    "### Úloha 8.5\n",
    "Zistite, či má na prežitie vplyv výška cestovného, alebo miesto nalodenia. "
   ]
  },
  {
   "cell_type": "markdown",
   "metadata": {},
   "source": [
    "### Úloha 8.6\n",
    "\n",
    "Označenia kajuty začínajú písmenom, ktoré označuje palubu na ktorej sa kajuta nachádzala (napr. kajuta `C22` sa nachádzala na palube `C`, atď.). Pomocou metódy `apply` odvoďte nový atribút `deck` s označením paluby.\n",
    "\n",
    "Na ktorej palube by ste mali väčšiu šancu na záchranu?"
   ]
  },
  {
   "cell_type": "code",
   "execution_count": null,
   "metadata": {},
   "outputs": [],
   "source": []
  }
 ],
 "metadata": {
  "kernelspec": {
   "display_name": "Python 3",
   "language": "python",
   "name": "python3"
  },
  "language_info": {
   "codemirror_mode": {
    "name": "ipython",
    "version": 3
   },
   "file_extension": ".py",
   "mimetype": "text/x-python",
   "name": "python",
   "nbconvert_exporter": "python",
   "pygments_lexer": "ipython3",
   "version": "3.7.2"
  }
 },
 "nbformat": 4,
 "nbformat_minor": 2
}
