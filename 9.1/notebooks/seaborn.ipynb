{
 "cells": [
  {
   "cell_type": "markdown",
   "metadata": {},
   "source": [
    "# Vizualizácie pomocou knižnice Seaborn - cvičenie 1\n",
    "\n",
    "Nasledujúce úlohy demonštrujú možnosti knižnice Seaborn pri rôznych spôsoboch vizualizácií premenných dátových rámcov Pandas. \n",
    "\n",
    "Na úvod importujeme knižnicu `Seaborn`. Rovnako importujeme knižnice pre prácu s dátovými rámcami `Pandas` a `Numpy` pre numerické operácie, ktoré budeme používať.\n",
    "\n",
    "Príkaz `%matplotlib inline` nastaví vykresľovanie vizualizácií v rámci front-endu, ktorý používame (v našom prípade notebooky Jupyter) priamo, pod časťou spusteného kódu. Vizualizácie potom budú súčasťou notebooku. "
   ]
  },
  {
   "cell_type": "code",
   "execution_count": null,
   "metadata": {},
   "outputs": [],
   "source": [
    "import seaborn as sns\n",
    "import pandas as pd\n",
    "import numpy as np\n",
    "import matplotlib.pyplot as plt\n",
    "\n",
    "%matplotlib inline\n",
    "\n",
    "# inicializujeme knižnicu Seaborn\n",
    "sns.set()"
   ]
  },
  {
   "cell_type": "markdown",
   "metadata": {},
   "source": [
    "### Načítanie datasetu\n",
    "\n",
    "Seaborn umožňuje použiť vstavanú funciu `load_dataset()` na načítanie štandardných dátových kolekcií z repozitáru príkladov knižnice. Dataset v taktomto prípade nenačítavame z disku, stiahne sa automaticky z repozitára a načíta sa ako štandardný dátový rámec. Túto funkciu je možné použiť pri analýze štandardných dátových kolekcií. Jediným parametrov tejto funkcie je názov datasetu, kompletný zoznam dátových množín, ktoré takto môžeme načítať nájdete [tu](https://github.com/mwaskom/seaborn-data).\n",
    "\n",
    "V tomto tutoriáli budeme pracovať s datasetom `tips`. Tento jednoduchý dataset obsahuje údaje o veľkosti platieb a sprepitného v reštaurácii. Tie su charakterizované nasledujúcimi atribútmi:\n",
    "* total_bill - výška celého účtu\n",
    "* tip - výška sprepitného\n",
    "* sex - pohlavie platcu účtu\n",
    "* smoker - identifikuje, či platca je fajčiar alebo nie\n",
    "* day - deň transakcie\n",
    "* time - špecifikuje, či sa jednalo o večeru alebo obed\n",
    "* size - veľkosť skupiny osôb\n"
   ]
  },
  {
   "cell_type": "code",
   "execution_count": null,
   "metadata": {},
   "outputs": [],
   "source": [
    "tips = sns.load_dataset('tips') # Z repozitára štandardných datasetov načítame dataset Tips"
   ]
  },
  {
   "cell_type": "code",
   "execution_count": null,
   "metadata": {},
   "outputs": [],
   "source": [
    "tips.head() # V premennej tips budeme mať načítaný dátový rámec, ktorého hlavičku môžeme vypísať príkazom head()"
   ]
  },
  {
   "cell_type": "markdown",
   "metadata": {},
   "source": [
    "Na Pandas dátový rámec môžeme aplikovať rôzne vizualizácie, ktoré poskytuje knižnica Seaborn. Na jednotlivé premenné sa odkazujeme pomocou názvu stĺpca v dátovom rámci. \n",
    "\n",
    "### Vizualizácie distribúcie hodnôt - numerické atribúty\n",
    "\n",
    "Prvou skupinou vizualizácií pre numerické atribúty sú diagramy distribúcie hodnôt (vizualizácie histogramov pre kategorické atribúty si ukážeme neskôr pri `countplot()`). Pre ich vizualizáciu v knižnici Seaborn môžeme použiť vizualizáciu distribúcie hodnôt pomocou funkcie `distplot()`. Tá vykresľuje distribúciu hodnôt zvoleného atribútu, kde na x-ovej osi sú hodnoty zvoleného atribútu a na y-ovej osi ich distribúcia. \n",
    "\n",
    "Jediným povinným parametrom funkcie `distplot()` je pole alebo zoznam s hodnotami premennej. V prípade, že dáta máme načítané v dátovom rámci, budeme parameter špecifikovať ako `dátový_rámec['stĺpec']`. Funkcia potom použije názov stĺpca pre názov osi x. "
   ]
  },
  {
   "cell_type": "code",
   "execution_count": null,
   "metadata": {},
   "outputs": [],
   "source": [
    "# Nasledujúcim príkazom vykreslíme graf rozdelenia hodnôt atribútu `total_bill` z dátového rámca tips\n",
    "\n",
    "g = sns.distplot(tips['total_bill'])"
   ]
  },
  {
   "cell_type": "markdown",
   "metadata": {},
   "source": [
    "Po vykreslení grafu vidíme distribúciu hodnôt atribútu `total_bill`. Všimnime si, že pre účely vykreslenia bol spojitý atribút diskretizovaný. Funkcia `distplot()` implicitne sama automaticky prepočítava vhodný počet intervalov. Okrem samotného histogramu, Seaborn implicitne okrem početnosti vykresľuje aj aproximáciu funkcie hustoty rozdelenia hodnôt. "
   ]
  },
  {
   "cell_type": "markdown",
   "metadata": {},
   "source": [
    "Samotný spôsob vykresľovania môžeme modifikovať, nastavovaním nepovinných parametrov. Tých je hneď niekoľko:\n",
    "* `bins` - hodnota tohoto parametra určuje počet intervalov, ktoré sa použijú pri transformovaní spojitého atribútu pri vykresľovaní. Nadobúda hodnoty celých čísel. \n",
    "* `kde` - KDE (kernel density estimation), ďalší z rozširujúcich parametrov, ktorý vypína alebo zapína vykresľovanie aproximácie hustoty rozdelenia hodnôt. Jeho prednastavená hodnota je `True`, môžeme ho voliteľne vypnúť nastavením na hodnotu `False`.\n",
    "* `rug` - zobrazenie datapointov na osi x (hodnoty `True` a `False`)\n",
    "* `hist` - zobrazenie histogramu (hodnoty `True` a `False`)\n"
   ]
  },
  {
   "cell_type": "code",
   "execution_count": null,
   "metadata": {},
   "outputs": [],
   "source": [
    "# Vykreslíme distplot() pre atribút total_bill z dátového rámca tips bez zobrazenia aproximácie, pri diskretizácii použijeme 40 intervalov\n",
    "\n",
    "g = sns.distplot(tips['total_bill'],kde=False,bins=40) "
   ]
  },
  {
   "cell_type": "markdown",
   "metadata": {},
   "source": [
    "Rôznymi kombináciami parametrov môžeme vizualizovať rôzne kombinácie spôsobov vykresľovania distribúcie hodnôt jednej premennej. "
   ]
  },
  {
   "cell_type": "code",
   "execution_count": null,
   "metadata": {},
   "outputs": [],
   "source": [
    "# Vykreslíme aproximáciu hustoty rozdelenia, s dátovými bodmi, bez histogramu\n",
    "\n",
    "g = sns.distplot(tips['total_bill'],kde=True, hist=False, rug=True)"
   ]
  },
  {
   "cell_type": "markdown",
   "metadata": {},
   "source": [
    "Ak chceme vykresliť distribúciu hodnôt iba pomocou KDE, môžeme použiť funkciu `kdeplot()`. \n",
    "Pomocou Seaborn zároveň môžeme vykresliť aj vizualizácie distribúcií hodnôt pre viacero atribútov súčasne. Tie sú potom farebne rozlíšené."
   ]
  },
  {
   "cell_type": "code",
   "execution_count": null,
   "metadata": {},
   "outputs": [],
   "source": [
    "for col in ['tip', 'total_bill']:   # v jednoduchom cykle prejdeme cez všetky atribúty, ktoré chceme vykresliť\n",
    "    sns.kdeplot(tips[col])          # pomocou kdeplot vykreslíme KDE krivku "
   ]
  },
  {
   "cell_type": "markdown",
   "metadata": {},
   "source": [
    "### Vizualizácie závislosti dvoch numerických premenných\n",
    "\n",
    "#### Bodové grafy (Scatter plots)\n",
    "\n",
    "Pre vizualizáciu závislosti hodnôt dvoch numerických atribútov môžeme použiť bodové grafy (scatter plots) pomocou funkcie knižnice Seaborn ``scatterplot()``. Funkcia má na vstupe 3 štandardné parametre:\n",
    "\n",
    "* `x` - premenná, ktorá bude zobrazená na osi x \n",
    "* `y` - premenná, ktorá bude zobrazená na osi y\n",
    "* `data` - dátový rámec vstupných dát\n",
    "\n",
    "Obe analyzované premenné musia byť numerické. V týchto a nasledujúcich funkciách už premenné špecifikujeme len podľa názvu stĺpca v používanom dátovom rámci (ten sa tiež zvyčajne uvádza ako jeden z parametrov). Aj v tomto prípade, Seaborn použije názov dátového rámca pre označenie osí v grafe. \n",
    "\n",
    "Výstupom je graf, kde jednotlivé body zdpovedajú jednotlivým záznamom v dátovom rámci, resp. kombinácii hodnôt oboch sledovaných atribútov. \n",
    "\n",
    "Príklad nižšie zobrazí súvislosť medzi dvoma numerickými atribútmi. V tomto prípade poďme preskúmať vzťah medzi veľkosťou sprepitného `tip` a výškou účtu `total_bill` použitím bodového grafu. "
   ]
  },
  {
   "cell_type": "code",
   "execution_count": null,
   "metadata": {},
   "outputs": [],
   "source": [
    "g = sns.scatterplot(x='tip', y='total_bill',data=tips) # Na osi x vynesieme hodnoty tip, na os y hodnoty total_bill a ako zdrojové dáta použijeme dátový rámec tips\n"
   ]
  },
  {
   "cell_type": "markdown",
   "metadata": {},
   "source": [
    "Scatter plot je možné skombinovať aj s kategorickým atribútom. Môžeme tak vizuálne odlíšiť hodnoty kombinácie dvoch numerických atribútov pre špecifické hodnoty zvoleného kategorického atribútu. \n",
    "\n",
    "Ten do `scatterplot()` funkcie došpecifikujeme pomocou rozširujúceho parametra `hue`. Jeho hodnotu potom nastavíme na kategorický atribút, ktorý použijeme pre farebné rozlíšenie bodov vo vizualizácii. \n",
    "\n",
    "Povedzme, že chceme rozlíšiť farebne hodnoty kombinácií atribútov `tip` a `total_bill` podľa toho, či hosť bol fajčiar alebo nie."
   ]
  },
  {
   "cell_type": "code",
   "execution_count": null,
   "metadata": {},
   "outputs": [],
   "source": [
    "# Vykreslíme scatterplot ako v predošlom príklade, akurát pomocou hue parametra nastaveného na atribút 'smoker' farebne rozlíšime body\n",
    "\n",
    "g = sns.scatterplot(x='tip', y='total_bill', hue='smoker', data=tips)"
   ]
  },
  {
   "cell_type": "markdown",
   "metadata": {},
   "source": [
    "Ďaľšími parametrami, ktorými môžeme modifikovať vizualizáciu závislosti sú:\n",
    "* `style`- ak chceme na rozlíšenie jednotlivých hodnôt kategorického atribútu použiť tvar bodov \n",
    "* `size` - ak chceme na rozlíšenie bodov použiť veľkosť spojitý atribút pomocou veľkosti jednotlivých bodov\n",
    "\n",
    "Všetky vyššie uvedené spôsoby je možné navzájom kombinovať. V bodovom grafe potom budeme vedieť vykresliť závislosť dvoch numerických premenných v závislosti na viacerých kategorických alebo iných spojitých premenných. \n",
    "\n",
    "Príklad nižšie obohacuje predošlý graf o zobrazenie veľkosti skupiny (pomocou veľkosti jednotlivých bodov - parametrom `size`) a rozlíšením pohlavia (pomocou rôzneho tvaru bodov - parameter `style`).  "
   ]
  },
  {
   "cell_type": "code",
   "execution_count": null,
   "metadata": {},
   "outputs": [],
   "source": [
    "g = sns.scatterplot(x='tip', y='total_bill', hue='smoker', size='size', style='sex', data=tips)"
   ]
  },
  {
   "cell_type": "markdown",
   "metadata": {},
   "source": [
    "#### Regresné grafy (Regression plots)\n",
    "\n",
    "Bodový graf vieme doplniť aj o vizualizáciu lineárnej funkčnej závislosti skúmaných atribútov. Takúto vizualizáciu realizujeme pomocou funkcií `regplot()` alebo `lmplot()`. Funkcia používa rovnaké parametre ako funkcie ``scatterplot()`` a výsledný bodový graf je doplnený o vizualizáciu regresného modelu funkčnej závislosti premenných. \n",
    "\n",
    "V príklade nižšie vizualizujeme lineárnu závislosť medzi atribútmi `total_bill` a `tip`. V tomto prípade vizualizácia dáva zmysel - so zvyšujúcim sa účtom obvykle rastie aj výška sprepitného. \n",
    "\n",
    "Parametrami funkcie `regplot()` sú:\n",
    "* `x` - premenná na osi x\n",
    "* `y` - premenná na osi y\n",
    "* `data` - dátový rámec\n",
    "\n",
    "Rozširujúce parametre umožňujú nastaviť stupeň funkcie použitej pre modelovanie závislosti - implicitne je nastavená lineárna funkcia, parametrom `order` špecifikujeme stupeň polynómu."
   ]
  },
  {
   "cell_type": "code",
   "execution_count": null,
   "metadata": {},
   "outputs": [],
   "source": [
    "# Príklad nižšie zobrazuje zobrazuje kombináciu rovnakých premenných ako predošlé príklady\n",
    "\n",
    "g = sns.regplot(x='tip',y='total_bill',data=tips)"
   ]
  },
  {
   "cell_type": "markdown",
   "metadata": {},
   "source": [
    "Podobne ako predchádzaujúce spôsoby vizualizácie, aj `regplot` vieme doplniť o farebné rozlíšenie pomocou hodnôt zvoleného kategorického atribútu. Rovnako ako v predchádzajúcich príkladoch pomocou nastavenia parametra `hue`. \n"
   ]
  },
  {
   "cell_type": "code",
   "execution_count": null,
   "metadata": {},
   "outputs": [],
   "source": [
    "# Analogicky ako v príklade so scatterplot\n",
    "# Graf rozlíšime pomocou parametra hue podľa hodnôt atribútu 'smoker'\n",
    "\n",
    "g = sns.lmplot(x='tip',y='total_bill', hue='smoker', data=tips)"
   ]
  },
  {
   "cell_type": "markdown",
   "metadata": {},
   "source": [
    "#### Kombinované vizualizácie - Joint plot\n",
    "\n",
    "Vizualizácia pomocou funkcie `jointplot()` umožňuje vo všeobecnosti rozšíriť a skombinovať vizualizácie charakteristík samotných premenných spolu s vizualizáciou vzájomných charakteristík dvoch premenných. Parametrami tejto funkcie sú:\n",
    "\n",
    "* `x` - názov prvej premennej \n",
    "* `y` - názov druhej premennej \n",
    "* `data` - dátový rámec vstupných dát\n",
    "* `kind` - definuje typ kombinácie vizualizácií. Nadobúda hodnoty: `scatter`, `hex`, `reg`, `kde`. \n",
    "\n",
    "Pri jeho nastavení na hodnotu `scatter` dostaneme bodový graf ako pri `scatterplot()` skombinovaný s grafmi o distribúcii hodnôt oboch premenných (ako `distplot()`)."
   ]
  },
  {
   "cell_type": "code",
   "execution_count": null,
   "metadata": {},
   "outputs": [],
   "source": [
    "# Uvedený príklad skombinuje vizualizáciu kombinácii hodnôt dvoh atribútov tip a total_bill (ako scatterplot)\n",
    "# Dopĺňa ich potom o vizualizácie distribúcií hodnôt (ako distplot)\n",
    "\n",
    "g = sns.jointplot(x='tip', y='total_bill',data=tips, kind='scatter')"
   ]
  },
  {
   "cell_type": "markdown",
   "metadata": {},
   "source": [
    "#### Úloha 9.1\n",
    "\n",
    "Vyskúšajte nastaviť rôzne hodnoty parametra `kind` a porovnajte jednotlivé spôsoby vykresľovania. "
   ]
  },
  {
   "cell_type": "code",
   "execution_count": null,
   "metadata": {},
   "outputs": [],
   "source": [
    "# YOUR CODE HERE"
   ]
  },
  {
   "cell_type": "markdown",
   "metadata": {},
   "source": [
    "#### Kombinované vizualizácie - Párový graf\n",
    "\n",
    "Párový graf umožňuje vizualizovať naraz vzájomné kombinácie všetkých numerických atribútov naprieč celým dátovým rámcom. Výsledkom je matica grafov, kde mimo diagonál zobrazujeme vizualizácie vzájomných kombinácií jednotlivých atribútov. Na diagonále sa implicitne zobrazujú distribpcie hodnôt daného atribútu.  \n",
    "\n",
    "Funkcia `pairplot()` požaduje iba jediný povinný parameter - zdrojový dátový rámec.\n",
    "\n",
    "Ak chceme vykresliť párový diagram iba pre zvolené stĺpce, môžeme ich predtým špecifikovať do poľa, ktoré predáme funkcii ako parameter. "
   ]
  },
  {
   "cell_type": "code",
   "execution_count": null,
   "metadata": {},
   "outputs": [],
   "source": [
    "col = ['tip', 'total_bill', 'size'] # špecifikujeme stĺpce, pre ktoré chceme vykresľovaťmpárový graf\n",
    "g = sns.pairplot(tips[col])         # zavoláme funkciu pairplot s parametrom"
   ]
  },
  {
   "cell_type": "markdown",
   "metadata": {},
   "source": [
    "Úplne rovnako ako v predošlých príkladoch, aj párový graf môžeme doplniť o farebné rozlíšenie podľa hodnôt zvoleného kategorického atribútu pomocou nastavenia parametra `hue`. \n",
    "\n",
    "#### Úloha 9.2\n",
    "\n",
    "Vyskúšajte podobným spôsobom ako v predchádzajúcich úlohách zobrazit párový graf pre 3 numerické atribúty datasetu `tips`, ale rozlíšený podľa hodnôt atribútu popisujúceho pohlavie (`sex`). "
   ]
  },
  {
   "cell_type": "code",
   "execution_count": null,
   "metadata": {},
   "outputs": [],
   "source": [
    "# YOUR CODE HERE"
   ]
  },
  {
   "cell_type": "markdown",
   "metadata": {},
   "source": [
    "#### Vizualizácia distribúcie rozdelenia hodnôt - kategorické atribúty\n",
    "\n",
    "Pre vizualizáciu kategorických premenných môžeme použiť viacero druhov vizualizácií. \n",
    "\n",
    "Medzi najjednoduššie patrí vizualizácia histogramov - početnosti rôznych hodnôt kategorických atribútov. Na jeho vizualizáciu môžeme použiť funkciu ``countplot()``. \n",
    "\n",
    "Funkcia má na vstupe 2 povinné parametre, ktoré umožnia tvoriť základné histogramy pre jeden atribút:\n",
    "* `x` alebo `y` - stĺpec dátového rámca vizualzovaného x-ovej alebo y-ovej osi. Volíme podľa toho, či chceme graf vykresliť vodorovne, alebo zvisle.  \n",
    "* `data` - zdrojový dátový rámec\n",
    "\n",
    "Príklad nižšie zobrazí početnosť hodnôt atribútu `smoker`."
   ]
  },
  {
   "cell_type": "code",
   "execution_count": null,
   "metadata": {},
   "outputs": [],
   "source": [
    "g = sns.countplot(x='smoker', data=tips)"
   ]
  },
  {
   "cell_type": "markdown",
   "metadata": {},
   "source": [
    "Vizualizácia zobrazuje početnosti jednotlivých hodnôt daného atribútu. Funkcii vieme špecifikovať rozširujúce parametre:\n",
    "\n",
    "* `hue` - farebné odlíšenie pomocou hodnôt špecifikovaného kategorického atribútu\n",
    "* `palette` - definuje farebnú sadu (napr. ``rainbow``, ``Set1``, `Blues` alebo ``coolwarm``)"
   ]
  },
  {
   "cell_type": "markdown",
   "metadata": {},
   "source": [
    "#### Úloha 9.3\n",
    "\n",
    "Vyskúšajte si vizualizáciu `countplot()` tak, že zobrazíte počty fajčiarov aj vzhľadom na jednotlivé pohlavia. Jednotlivé stĺpce vykreslite vodorovne. "
   ]
  },
  {
   "cell_type": "code",
   "execution_count": null,
   "metadata": {},
   "outputs": [],
   "source": [
    "### YOUR CODE HERE"
   ]
  },
  {
   "cell_type": "markdown",
   "metadata": {},
   "source": [
    "### Vizualizácie vzájomnej závislosti 2 premenných rôznych typov\n",
    "\n",
    "#### Stĺpcový graf\n",
    "\n",
    "``countplot`` je v podstate zjednodušenou formou ``barplot`` grafu, ktorý vo všeobecnosti umožňuje zobraziť agregované hodnoty zvoleného numerického atribútu podľa hodnôt kategorickej premennej (štandardne je nastavená ako funkcia priemer). Vizualizácia je teda tvorená stĺpcami, ktorých výška reprezentuje priemernú hodnotu zvoleného atribútu. Navyše je táto informácia doplnená o vizualizáciu štandardnej odchýlky. "
   ]
  },
  {
   "cell_type": "markdown",
   "metadata": {},
   "source": [
    "Funkcia `barplot()` má niekoľko povinných parametrov:\n",
    "* `x` - názov kategorickej premennej \n",
    "* `y` - názov numerickej premennej \n",
    "* `data` - dátový rámec vstupných dát\n",
    "\n",
    "Rozširujúcimi parametrami vieme došpecifikovať vykresľlovanie. Napr.:\n",
    "\n",
    "* `hue` - farebné odlíšenie pomocou hodnôt špecifikovaného kategorického atribútu\n",
    "* `estimator`- môže expliticne definovať funkciu estimátora (implicitne je nastavený priemer), môžeme ale použiť aj napr. `median`, \n",
    "* `ci` - explicitne definuje odchýlku estimátora (implicitne je nastavená štandardná odchýlka, ak je nastavený na `None`, odchýlka sa nevykreslí).\n",
    "* `palette` - definuje farebnú sadu \n",
    "* `order` - umožňuje nastaviť poradie v akom budú zobrazené stĺpce, napr. ['Atribut2', 'Atribut1']\n"
   ]
  },
  {
   "cell_type": "code",
   "execution_count": null,
   "metadata": {},
   "outputs": [],
   "source": [
    "g = sns.barplot(x='sex',y='tip',data=tips) # Tento príkaz vizualizuje priemernú výšku sprepitného pre mužov a ženy"
   ]
  },
  {
   "cell_type": "markdown",
   "metadata": {},
   "source": [
    "#### Úloha 9.4. \n",
    "\n",
    "Vykreslite mediány výšky sprepitného v jednotlivých dňoch v týžni rozdelené podľa pohlavia.\n",
    "Pozn. - prepočítanie medánu potrebujete importovať `median` funkciu z `numpy`"
   ]
  },
  {
   "cell_type": "code",
   "execution_count": null,
   "metadata": {},
   "outputs": [],
   "source": [
    "# YOUR CODE HERE"
   ]
  },
  {
   "cell_type": "markdown",
   "metadata": {},
   "source": [
    "#### Krabicový graf\n",
    "\n",
    "Pre zobrazenie distribúcie hodnôt pre kategorické dáta môžeme použiť ``boxplot``. Vizualizuje distribúciu numerických premenných naprieč rôznymi hodnotami kategorických atribútov a zobrazuje minimálne/maximálne hodnoty, medián a kvartily. Body vykreslené mimo \"box\" (tzv. fliers) predstavujú outliery. "
   ]
  },
  {
   "cell_type": "markdown",
   "metadata": {},
   "source": [
    "Funkcia `boxplot()` má na vstupe rovnaké povinné parametre ako predchádzajúce funkcie:\n",
    "\n",
    "* `x` - názov kategorickej premennej \n",
    "* `y` - názov numerickej premennej \n",
    "* `data` - dátový rámec vstupných dát\n"
   ]
  },
  {
   "cell_type": "code",
   "execution_count": null,
   "metadata": {},
   "outputs": [],
   "source": [
    "# Kód nižšie vykreslí rozdelenie výšky sprepitného (atribút tip) podľa pohlavia. \n",
    "\n",
    "g = sns.boxplot(x=\"sex\", y=\"tip\", data=tips)"
   ]
  },
  {
   "cell_type": "markdown",
   "metadata": {},
   "source": [
    "Aj ``boxplot`` vizualizácie vieme modifikovať a rozširovať, obdobne ako v predchádzajúcich príkladoch. Podobne teda vieme definovať:\n",
    "\n",
    "* `hue` - farebné odlíšenie pomocou hodnôt špecifikovaného kategorického atribútu\n",
    "* `order` - umožňuje nastaviť poradie v akom budú zobrazené stĺpce, napr. ['Atribut2', 'Atribut1']\n",
    "* `palette` - definuje farebnú sadu \n"
   ]
  },
  {
   "cell_type": "code",
   "execution_count": null,
   "metadata": {},
   "outputs": [],
   "source": [
    "# Tento príklade vizualizáciu rozdelí podľa atribútu ``smoker`` pre fajčiarov/nefajčiarov.\n",
    "\n",
    "g = sns.boxplot(x=\"day\", y=\"tip\", hue=\"smoker\",data=tips)"
   ]
  },
  {
   "cell_type": "markdown",
   "metadata": {},
   "source": [
    "#### Úloha 9.5 \n",
    "\n",
    "Vyskúšatje posledný krabicový graf vykresliť aj s týmto rozširujúcimi parametrami `palette` a `order`. Prvý atribút skúšajte nastaviť napr. na ``rainbow``, ``Set1``, `Blues` alebo ``coolwarm``. Na x-ovej osi vykreslite dni v obrátenom poradí. \n"
   ]
  },
  {
   "cell_type": "code",
   "execution_count": null,
   "metadata": {},
   "outputs": [],
   "source": [
    "# YOUR CODE HERE"
   ]
  },
  {
   "cell_type": "markdown",
   "metadata": {},
   "source": [
    "Rovnako môžete vyskúšať použit rozširujúci parameter `palette` aj pri ostatných predoškých vizualizáciách (okrem `distplot() grafu`).  "
   ]
  },
  {
   "cell_type": "code",
   "execution_count": null,
   "metadata": {},
   "outputs": [],
   "source": [
    "# YOUR CODE HERE"
   ]
  },
  {
   "cell_type": "markdown",
   "metadata": {},
   "source": [
    "### Bodové grafy pre kategorické premenné\n",
    "\n",
    "#### Strip plot\n",
    "\n",
    "`stripplot()` funkciu je možné použiť pre vykreslenie bodového grafu (ako `scatterplot`) ale v takom prípade, kedy je jedna z premenných je kategorická. Výsledný graf potom vizualzuje záznamy a distribúciu hodnôt pre jednotlivé kategorické hodnoty.  "
   ]
  },
  {
   "cell_type": "markdown",
   "metadata": {},
   "source": [
    "Medzi povniné parametre partia:\n",
    "\n",
    "* `x` - názov kategorickej premennej \n",
    "* `y` - názov numerickej premennej \n",
    "* `data` - dátový rámec vstupných dát\n"
   ]
  },
  {
   "cell_type": "code",
   "execution_count": null,
   "metadata": {},
   "outputs": [],
   "source": [
    "# Rovnaký príklad z predošlých ukážok - na os x vykreslíme hodnotu atribútu 'day'\n",
    "# Na y-ovú os hodnoty atribútu 'tip', zdrojový dataset je 'tips'\n",
    "\n",
    "g = sns.stripplot(x=\"day\", y=\"tip\", data=tips)"
   ]
  },
  {
   "cell_type": "markdown",
   "metadata": {},
   "source": [
    "Podobne, ako v predchádzajúcich prípadoch, aj tieto vizualizácie môžeme pomocou parametra `hue`, došpecifikovať podľa hodnôt zvolenej kategorickej premennej.  "
   ]
  },
  {
   "cell_type": "markdown",
   "metadata": {},
   "source": [
    "Ďalší z rozširujúcich parametrom je `jitter`. Nastavovaním hodnoty tohoto parametra môžeme špecifikovať hustotu vykreslenia. \n",
    "\n",
    "Tiež môžeme použiť aj parameter `palette` pre definovanie použitej farebnej palety. "
   ]
  },
  {
   "cell_type": "code",
   "execution_count": null,
   "metadata": {},
   "outputs": [],
   "source": [
    "# Tento graf vizualizuje výšku sprepitného (tip) mužov a žien podľa jednotlivých dní v týždni (atribút day)\n",
    "# Hustota vykreslenia bodov (jitter) je nastavená manuálne na 0.3 a nastavená je aj farebná paleta coolwarm\n",
    "\n",
    "g = sns.stripplot(x=\"day\", y=\"tip\", hue=\"sex\",data=tips, jitter = 0.3, palette = 'coolwarm')"
   ]
  },
  {
   "cell_type": "markdown",
   "metadata": {},
   "source": [
    "Vyskúšajte nastavovať parameter `jitter` na rôzne hodnoty v intervale (0,1) a sledujte, ako to ovplyvňuje vizualizáciu. "
   ]
  },
  {
   "cell_type": "markdown",
   "metadata": {},
   "source": [
    "#### Swarm plot\n",
    "\n",
    "Funkcia `swarmplot()` vykresľuje podobný typ grafu ako `stripplot()`. Jej použitie je teda rovnaké - pre vykreslenie bodového grafu, kde jedna z premenných je kategorická. Rozdiel je iba v samotnom vykreslení, kde sa jednotlivé body neprekrývajú. Takýto spôsob potom môže poskytnuť lepší pohľad na distribúciu hodnôt, na druhej strane pri veľkom počte záznamov nemusí byť vhodný.\n"
   ]
  },
  {
   "cell_type": "markdown",
   "metadata": {},
   "source": [
    "#### Úloha 9.6\n",
    "\n",
    "Vyskúšajte si teraz rovnakú vizualizáciu ako v predošlom príklade pomocou funkcie ``swarmplot``. Používa sa rovnaký spôsob špecifikácie vstupných parametrov - stĺpec dát pre os `x` a `y`, `data` pre zdrojový dátový rámec, `hue` pre kategorický atribút a `palette` pre farby."
   ]
  },
  {
   "cell_type": "code",
   "execution_count": null,
   "metadata": {},
   "outputs": [],
   "source": [
    "# YOUR CODE HERE"
   ]
  },
  {
   "cell_type": "markdown",
   "metadata": {},
   "source": [
    "Vizualizácie z predošlých príkladov vieme spájať dokopy a tvoriť kombinované grafy. Príklad nižšie skombinuje ``swarmplot`` a ``violinplot`` do jednej vizualizácie. "
   ]
  },
  {
   "cell_type": "markdown",
   "metadata": {},
   "source": [
    "### Kombinované vizualizácie - Facet grids\n",
    "\n",
    "`Facet Grids` umožňujú vykresľovanie viacerých vizualizácií naraz do mriežky. Pomocou funkcie `FacetGrid()` vieme vytvoriť mriežku, ktorú vieme naplniť rôznymi vizualizáciami. "
   ]
  },
  {
   "cell_type": "markdown",
   "metadata": {},
   "source": [
    "#### Facet histogramy\n",
    "\n",
    "Nižsie uvedený príklad demonštruje použitie funkcie na paralelné vykreslenie viacerých histogramov v závislosti na rôznych kombináciách hodnôt atribútov. \n",
    "\n",
    "Povedzme, že by nás zaujímalo poznať, koľko z celkového účtu nechávajú muži a ženy počas večere alebo obeda (atribút `time`). Na vizualizáciu takéhoto histogramu si najprv vytvoríme nový atribút popisujúci podiel sprepitného na celkovom účte a nazveme ho `tips_pct`.\n",
    "\n",
    "Potom vykreslíme mriežku, kde jednotlivé riadky špecifikujeme parametrom `row` a stĺpce parametrom `col`. Ich hodnotami sú kategorické atribúty, pre ktoré sa budú v jednotlivých stĺpcoch vizualizovať jednotlivé grafy. \n",
    "\n",
    "Potom pomocou funkcie `map()` aplikujeme matplotlib histogram (funkcia `plt.hist`) pre zvolený atribút (v tomto prípade podiel prepitného `tip_pct`)."
   ]
  },
  {
   "cell_type": "code",
   "execution_count": null,
   "metadata": {},
   "outputs": [],
   "source": [
    "tips['tip_pct'] = 100 * tips['tip'] / tips['total_bill'] #vytvoríme nový stĺpec s hodnotou podielu sprepitného na účte\n",
    "\n",
    "g = sns.FacetGrid(tips, row=\"sex\", col=\"time\") # vytvoríme mriežku, kde budú riadky podľa hodnoty pohlavia a v stĺpcoch podľa času \n",
    "g.map(plt.hist, \"tip_pct\")                     # vykreslíme matplotlib histogramy do mriežky"
   ]
  },
  {
   "cell_type": "markdown",
   "metadata": {},
   "source": [
    "#### Vykresľovanie závislosti s treťou kategorickou premennou\n",
    "\n",
    "Použitím funkcie `catplot()` môžeme vykresliť vizualizáciu grafov uvedených typov (pre kategorické atribúty) aj v závislosti na ďalšej dodatočnej kategorickej premennej. Funkcia umožní paralelne vedľa seba vykresliť viacero diagramov daného typu, každý pre jednu z hodnôt ďalšej kategorickej premennej. \n",
    "\n",
    "Funkcia `catplot()` je vlastne stĺpcový graf (rovnaký ako vo funkcii `barplot()`), avšak umožňuje vykresľovanie do `FacetGrid`-u automaticky. Vo funkcii teda môžeme priamo došpecifikovat parameter `col`, ktorý podľa hodnôt špecifikovaného atribútu v jednotlivých stĺpcoch vykreslí stĺpcové grafy pre jednotlivé hodnoty daého atribútu. \n",
    "\n",
    "Ako príklad môžeme uviesť vizualizáciu výšky sprepitného mužov a žien podľa jednotlivých dní v týždni rozdelených ešte podľa toho, či sú fajčiari alebo nie. Tretiu kategorickú premennú dodefinujeme pomocou parametra `col`. Parameter `kind` potom definuje štýl vykreslenia (môžeme použiť `bar`, `strip`, `point`, `swarm`). Ak použijeme hodnotu `count`, môžeme takto na y-ovú os vyniesť početnosť hodnôt atribútu na x-ovej osi. "
   ]
  },
  {
   "cell_type": "code",
   "execution_count": null,
   "metadata": {},
   "outputs": [],
   "source": [
    "g = sns.catplot(x=\"day\", y=\"tip\", hue=\"sex\", col=\"smoker\", data=tips, kind=\"bar\")"
   ]
  },
  {
   "cell_type": "markdown",
   "metadata": {},
   "source": [
    "### Heatmapy\n",
    "\n",
    "Heatmapy je možné použiť na prehľadné vykresľovanie korelácií. Korelačnú maticu numerických atribútov v dátovom rámci vypočítame pomocou `tips.corr()`. \n",
    "\n",
    "Samotné hodnoty korelačných koeficientov môžeme štandardne vypísať do tabuľky, alebo môžeme použiť funkciu `heatmap()` zo Seaborn knižnice, ktorá nám umožní korelačnú tabuľku zadanú ako jej parameter vizualizovať farebne. Jednotlivé farebné odtiene potom udávajú silu vzájomnej korelácie. "
   ]
  },
  {
   "cell_type": "code",
   "execution_count": null,
   "metadata": {},
   "outputs": [],
   "source": [
    "# Vykreslenie heatmapy pre korelačnú tabuľku rámca tips\n",
    "# tips.corr() funkcia spočíta korelácie všetkých numerických atribútov dátového rámca tips\n",
    "\n",
    "g = sns.heatmap(tips.corr())"
   ]
  },
  {
   "cell_type": "markdown",
   "metadata": {},
   "source": [
    "Takto vyzerá vizualizácia heatmapy s implicitnými nastaveniami. Rovnako ako v ostatných vizualizáciách, aj tu môžeme došpecifikovať viaceré spôsoby, ako zobrazenie upraviť. Napr. zobrazovanie korelačných koeficientov riadnime parametrom `annot`, ktorý aj je nastavený na hodnotu `True`, vykreslí hodnoty korelačných koeficientov do príslušných políčok. Rovnako môžeme definovať paletu farieb pomocou parametra `cmap` (colormap). "
   ]
  },
  {
   "cell_type": "code",
   "execution_count": null,
   "metadata": {},
   "outputs": [],
   "source": [
    "g = sns.heatmap(tips.corr(),cmap='coolwarm',annot=True)"
   ]
  },
  {
   "cell_type": "markdown",
   "metadata": {},
   "source": [
    "Parametrom `mask` vieme špecifikovať políčka, ktoré sa \"zamaskujú\". Môžeme tak zamaskovať a nevykresliť napr. políčka s nulovými hodnotami, alebo napríklad v prípade korelačných matíc časť nad diagonálou. "
   ]
  },
  {
   "cell_type": "code",
   "execution_count": null,
   "metadata": {},
   "outputs": [],
   "source": [
    "mask[np.triu_indices_from(tips.corr())] = True # triu_indices_from() vráti indexy horného trojuholníka zo vstupného poľa, maska sa na nich nastaví na True\n",
    "g = sns.heatmap(tips.corr(), mask=mask, annot=True, square=True) # vykreslí sa heatmapa s maskou"
   ]
  },
  {
   "cell_type": "markdown",
   "metadata": {},
   "source": [
    "Heatmapy môžeme samozrejme použiť na zobrazovanie `pivot tables`. Tabuľku použijeme ako vstupný parameter a podobne ako v predošlých príkladoch nastavíme ostatnými parametrami zobrazovanie koeficientov jednotlivých políčok. Parametrom `cbar` zasa vieme nastaviť zapnutie/vypnutie farebnej stupnice."
   ]
  },
  {
   "cell_type": "code",
   "execution_count": null,
   "metadata": {},
   "outputs": [],
   "source": [
    "heatmap_data = pd.pivot_table(tips, values='total_bill', index=['size'], columns='day') # vytvoríme pivot table - hodnoty celkového účtu podľa veľkosti skupinky a dňa\n",
    "g = sns.heatmap(heatmap_data, annot=True, cmap=\"YlGnBu\",  cbar=False)                   # vykreslíme heatmapu"
   ]
  },
  {
   "cell_type": "markdown",
   "metadata": {},
   "source": [
    "Zaujímavé je použitie heatmapy pre vizualizáciu chýbajúcich hodnôt. Môžema tak rýchlo získať predstavu o tom, v akých atribútoch sa chýbajúce hodnoty vyskytujú a koľko ich je. Aby sme demonštrovali využitie, načítame si dataset Titanic, nakoľko v datasete Tips sa chýbajúce hodnoty nevyskytujú."
   ]
  },
  {
   "cell_type": "code",
   "execution_count": null,
   "metadata": {},
   "outputs": [],
   "source": [
    "titanic = sns.load_dataset('titanic')   # načítame dataset Titanic z repozitáru štandardných datasetov\n",
    "g = sns.heatmap(titanic.isnull(), cbar = False)   # vykreslíme heatmapu pre tie prvky dátového rámca, ktoré sú chýbajúce, bar nevykresľujeme"
   ]
  },
  {
   "cell_type": "markdown",
   "metadata": {},
   "source": [
    "## Nastavenia štýlu a vykresľovania\n",
    "\n",
    "V tejto časti si uvedieme niekoľko príkladov a ukážok toho, ako lepšie prispôsobiť vykresľovanie vizualizácií. Predošlé príklady používali štandardne prednastavený štýl Seaborn knižnice a niektoré z aspektov vykresľovania sme riadili priamo pre jednotlivé grafy použitím parametra `palette`. Seaborn umožňuje základné nastavenia štýlu realizovať jak pre jednotlivé grafy, tak aj definovať štýl jednotne, pre všetky používané vizualizácie.  \n",
    "\n",
    "Nižšie uvedieme niekoľko ukážok, ako je možné niektoré z aspektov vizualizácie prispôsobovať."
   ]
  },
  {
   "cell_type": "markdown",
   "metadata": {},
   "source": [
    "Jednotlivé úpravy štýlu si ukážeme na príklade `distplot` zo začiatku cvičenia "
   ]
  },
  {
   "cell_type": "code",
   "execution_count": null,
   "metadata": {},
   "outputs": [],
   "source": [
    "g = sns.distplot(tips['tip'])"
   ]
  },
  {
   "cell_type": "markdown",
   "metadata": {},
   "source": [
    "Implicitne vykreslený graf je vykreslený s orámovaním, bielym pozadím. Pomocou funkcií `set()`a `set_style()` môžeme definovať štýl, ktorý potom bude používaný pre všetky grafy v skripte/notebooku. Štýl potom špecifikuje základné prvky vizualizácií - farbu osí, pozadie grafu a ostatné elementy. Nastaví sa obvykle na začiatku, pri inicializácii Seaborn. \n",
    "\n",
    "Funkcia `set()` umoožňuje nastavi rôzne aspekty:\n",
    "* `style` - použitý štýl obrázkov (viz. štýly nižšie)\n",
    "* `xlabel`, `ylablel` - popisky osí\n",
    "* `palette` - použitá farebná paleta - podobne, ako sme špecifikovali pre jednotlivé grafy, môžeme definovať pre celý notebook, resp. iný kontext\n",
    "* `font` - špecifikácia fontu písma v diagramoch\n",
    "* `font_scale` - veľkosť písma\n",
    "\n",
    "Funkcia `set_style()` definuje jeden konkrétny aspekt vizualizácie - štýl samotných vizualizácií. Pokrýva `style` časť nastavenia všetkých aspektov vizualizácie. Samostatne tak môžeme pre dokument nastaviť štýl. Hodnoty parametra sú:\n",
    "* `darkgrid`\n",
    "* `whitegrid`\n",
    "* `dark`\n",
    "* `white`\n",
    "* `ticks`\n",
    "\n",
    "Ak nastavíme štýl pomocou `set()` alebo `set_style()`, zmeny sa prejavia v celom kontexte (napr. dokumente). Ak chceme štýl aplikovať iba lokálne, na jeden z obrázkov, môžeme použiť funkciu `axes_style('darkgrid')` ako v úlohách nižšie.\n",
    "\n",
    "\n",
    "#### Úloha 9.7\n",
    "\n",
    "Vyskúšajte a porovnajte vizualizácie grafu distribúcie hodnôt atribútu `tip` pre rôzne hodnoty vstupného parametra funkcie."
   ]
  },
  {
   "cell_type": "code",
   "execution_count": null,
   "metadata": {},
   "outputs": [],
   "source": [
    "with sns.axes_style('darkgrid'):        # aplikujeme pomocou funkcie axes_style štýl\n",
    "         g = sns.distplot(tips['tip'])  # vykreslíme graf"
   ]
  },
  {
   "cell_type": "markdown",
   "metadata": {},
   "source": [
    "Pomocou funkcie `despine()` vieme odstrániť rámček okolo diagramu, resp. dodefinovať jeho rozsah s spôsob zobrazovania."
   ]
  },
  {
   "cell_type": "code",
   "execution_count": null,
   "metadata": {},
   "outputs": [],
   "source": [
    "g = sns.distplot(tips['tip'])\n",
    "g = sns.despine()"
   ]
  },
  {
   "cell_type": "markdown",
   "metadata": {},
   "source": [
    "`despine()` umožňuje aj meniť vykresľovanie osí, ich rozostup, prípadne orezanie, pomocou parametrov `offset` a `trim`. Rovnako vieme špecifikovať, ktoré z ohraničení chceme odstrániť (parametrami `left`, `right`, `bottom`, `top`)."
   ]
  },
  {
   "cell_type": "code",
   "execution_count": null,
   "metadata": {},
   "outputs": [],
   "source": [
    "g = sns.distplot(tips['tip'])\n",
    "g = sns.despine(offset=5, trim=True, left=True, bottom=False)"
   ]
  },
  {
   "cell_type": "markdown",
   "metadata": {},
   "source": [
    "Funkcia `set_context()` zase umožní vhodne naškálovať vizualizáciu pre daný účel. V závislosti na rôznych hodnotách jej parametra sa prispôsobuje veľkosť popisiek osí, legendy, hrúbky čiar, či stupnice osí. Hodnoty parametra tejto funkcie sú `paper`, `notebook`, `talk` a `poster`. Vyskúšajte rozdiely pri vykresľovaní.\n",
    "\n",
    "Do kontextu vieme pridávať aj ostatné aspekty, napr. veľkosť písma (`font_scale`), "
   ]
  },
  {
   "cell_type": "code",
   "execution_count": null,
   "metadata": {},
   "outputs": [],
   "source": [
    "sns.set_context('talk', font_scale = 1.3)\n",
    "g = sns.distplot(tips['tip'])"
   ]
  },
  {
   "cell_type": "markdown",
   "metadata": {},
   "source": [
    "Popisky osí môžeme špecifikovať pomocou `matplotlib`, alebo aj v Seaborn pomocou funkcie `set()`. Tá má 2 parametre pre popis x-ovej a y-ovej osi. "
   ]
  },
  {
   "cell_type": "code",
   "execution_count": null,
   "metadata": {},
   "outputs": [],
   "source": [
    "with sns.axes_style('whitegrid'):\n",
    "    g = sns.distplot(tips['tip'])\n",
    "    g.set(xlabel='deň', ylabel='distribúcia')"
   ]
  },
  {
   "cell_type": "markdown",
   "metadata": {},
   "source": [
    "Nastavovanie osí, alebo titulky obrázku môžeme realizovať aj kombináciou Seaborn a matplotlib vykresľovania. Príklad nižsie demonštruje vykreslenie Seaborn grafu a následné doplnenie titulky pomocou matplotlib."
   ]
  },
  {
   "cell_type": "code",
   "execution_count": null,
   "metadata": {},
   "outputs": [],
   "source": [
    "g = sns.distplot(tips['tip'])\n",
    "g = plt.title('Distribution plot example', fontsize=14, fontweight='bold') # ak chceme, Seaborn vieme kombinovať s matplotlib - tuto napr. použijeme funkciu title() pre vykreslenie hlavičky grafu"
   ]
  },
  {
   "cell_type": "markdown",
   "metadata": {},
   "source": [
    "Farebnú paletu sme si už vyskúšali pri niektorých grafoch nastavovať pomocou separátneho parametra pri vykresľovaní. Paletu je možné nastaviť pre celý dokument príkazom `set_palette()`. Ukážeme si niekoľko farebných paliet, ktoré je možné použiť. "
   ]
  },
  {
   "cell_type": "code",
   "execution_count": null,
   "metadata": {},
   "outputs": [],
   "source": [
    "sns.set_palette(\"Dark2\")\n",
    "g = sns.distplot(tips['tip'])"
   ]
  },
  {
   "cell_type": "markdown",
   "metadata": {},
   "source": [
    "Väčšina farebných paliet, ktoré je možné použiť:\n",
    "![Colors](palettes.png)"
   ]
  },
  {
   "cell_type": "code",
   "execution_count": null,
   "metadata": {},
   "outputs": [],
   "source": []
  }
 ],
 "metadata": {
  "kernelspec": {
   "display_name": "Python 3",
   "language": "python",
   "name": "python3"
  },
  "language_info": {
   "codemirror_mode": {
    "name": "ipython",
    "version": 3
   },
   "file_extension": ".py",
   "mimetype": "text/x-python",
   "name": "python",
   "nbconvert_exporter": "python",
   "pygments_lexer": "ipython3",
   "version": "3.7.1"
  }
 },
 "nbformat": 4,
 "nbformat_minor": 2
}
